{
 "cells": [
  {
   "cell_type": "code",
   "execution_count": 1,
   "metadata": {},
   "outputs": [
    {
     "name": "stdout",
     "output_type": "stream",
     "text": [
      "Loading WaPOR catalog...\n"
     ]
    }
   ],
   "source": [
    "import WaPOR #import local module 'WaPOR'\n",
    "WaPOR.API.version=2 #select WaPOR version\n",
    "WaPOR.API.getCatalog()\n",
    "output_dir='./'\n",
    "xmin,ymin,xmax,ymax=(32.65692516077674,-25.16412729789142,32.90420244933813,-25.01450956754679)"
   ]
  },
  {
   "cell_type": "code",
   "execution_count": 2,
   "metadata": {
    "scrolled": true
   },
   "outputs": [
    {
     "name": "stdout",
     "output_type": "stream",
     "text": [
      "\n",
      "Download WaPOR Level 2 yearly GBWP data for the period 2009-01-01 till 2019-12-31\n",
      "Progress: |--------------------------------------------------| 0.0% CompleteError: Cannot get cropped raster URL\n",
      "None\n"
     ]
    },
    {
     "ename": "MissingSchema",
     "evalue": "Invalid URL 'None': No schema supplied. Perhaps you meant http://None?",
     "output_type": "error",
     "traceback": [
      "\u001b[1;31m---------------------------------------------------------------------------\u001b[0m",
      "\u001b[1;31mMissingSchema\u001b[0m                             Traceback (most recent call last)",
      "\u001b[1;32m<ipython-input-2-bbc4be27ca86>\u001b[0m in \u001b[0;36m<module>\u001b[1;34m\u001b[0m\n\u001b[0;32m      5\u001b[0m                        \u001b[0mlatlim\u001b[0m\u001b[1;33m=\u001b[0m\u001b[1;33m[\u001b[0m\u001b[0mymin\u001b[0m\u001b[1;33m-\u001b[0m\u001b[1;36m0.5\u001b[0m\u001b[1;33m,\u001b[0m \u001b[0mymax\u001b[0m\u001b[1;33m+\u001b[0m\u001b[1;36m0.5\u001b[0m\u001b[1;33m]\u001b[0m\u001b[1;33m,\u001b[0m\u001b[1;33m\u001b[0m\u001b[1;33m\u001b[0m\u001b[0m\n\u001b[0;32m      6\u001b[0m                        \u001b[0mlonlim\u001b[0m\u001b[1;33m=\u001b[0m\u001b[1;33m[\u001b[0m\u001b[0mxmin\u001b[0m\u001b[1;33m-\u001b[0m\u001b[1;36m0.5\u001b[0m\u001b[1;33m,\u001b[0m \u001b[0mxmax\u001b[0m\u001b[1;33m+\u001b[0m\u001b[1;36m0.5\u001b[0m\u001b[1;33m]\u001b[0m\u001b[1;33m,\u001b[0m\u001b[1;33m\u001b[0m\u001b[1;33m\u001b[0m\u001b[0m\n\u001b[1;32m----> 7\u001b[1;33m                        \u001b[0mlevel\u001b[0m\u001b[1;33m=\u001b[0m\u001b[1;36m2\u001b[0m\u001b[1;33m,\u001b[0m\u001b[1;33m\u001b[0m\u001b[1;33m\u001b[0m\u001b[0m\n\u001b[0m\u001b[0;32m      8\u001b[0m                        )\n",
      "\u001b[1;32mD:\\Github\\WAPOROCW\\modules\\WaPOR\\download_seasonal.py\u001b[0m in \u001b[0;36mmain\u001b[1;34m(Dir, data, Startdate, Enddate, latlim, lonlim, level, version, Waitbar)\u001b[0m\n\u001b[0;32m     78\u001b[0m         \u001b[0mprint\u001b[0m\u001b[1;33m(\u001b[0m\u001b[0mdownload_url\u001b[0m\u001b[1;33m)\u001b[0m\u001b[1;33m\u001b[0m\u001b[1;33m\u001b[0m\u001b[0m\n\u001b[0;32m     79\u001b[0m         \u001b[1;31m#Download raster file\u001b[0m\u001b[1;33m\u001b[0m\u001b[1;33m\u001b[0m\u001b[1;33m\u001b[0m\u001b[0m\n\u001b[1;32m---> 80\u001b[1;33m         \u001b[0mresp\u001b[0m\u001b[1;33m=\u001b[0m\u001b[0mrequests\u001b[0m\u001b[1;33m.\u001b[0m\u001b[0mget\u001b[0m\u001b[1;33m(\u001b[0m\u001b[0mdownload_url\u001b[0m\u001b[1;33m)\u001b[0m\u001b[1;33m\u001b[0m\u001b[1;33m\u001b[0m\u001b[0m\n\u001b[0m\u001b[0;32m     81\u001b[0m         \u001b[0mopen\u001b[0m\u001b[1;33m(\u001b[0m\u001b[0mdownload_file\u001b[0m\u001b[1;33m,\u001b[0m\u001b[1;34m'wb'\u001b[0m\u001b[1;33m)\u001b[0m\u001b[1;33m.\u001b[0m\u001b[0mwrite\u001b[0m\u001b[1;33m(\u001b[0m\u001b[0mresp\u001b[0m\u001b[1;33m.\u001b[0m\u001b[0mcontent\u001b[0m\u001b[1;33m)\u001b[0m\u001b[1;33m\u001b[0m\u001b[1;33m\u001b[0m\u001b[0m\n\u001b[0;32m     82\u001b[0m         \u001b[0mdriver\u001b[0m\u001b[1;33m,\u001b[0m \u001b[0mNDV\u001b[0m\u001b[1;33m,\u001b[0m \u001b[0mxsize\u001b[0m\u001b[1;33m,\u001b[0m \u001b[0mysize\u001b[0m\u001b[1;33m,\u001b[0m \u001b[0mGeoT\u001b[0m\u001b[1;33m,\u001b[0m \u001b[0mProjection\u001b[0m\u001b[1;33m=\u001b[0m \u001b[0mgis\u001b[0m\u001b[1;33m.\u001b[0m\u001b[0mGetGeoInfo\u001b[0m\u001b[1;33m(\u001b[0m\u001b[0mdownload_file\u001b[0m\u001b[1;33m)\u001b[0m\u001b[1;33m\u001b[0m\u001b[1;33m\u001b[0m\u001b[0m\n",
      "\u001b[1;32m~\\Anaconda3\\envs\\waporocw\\lib\\site-packages\\requests\\api.py\u001b[0m in \u001b[0;36mget\u001b[1;34m(url, params, **kwargs)\u001b[0m\n\u001b[0;32m     74\u001b[0m \u001b[1;33m\u001b[0m\u001b[0m\n\u001b[0;32m     75\u001b[0m     \u001b[0mkwargs\u001b[0m\u001b[1;33m.\u001b[0m\u001b[0msetdefault\u001b[0m\u001b[1;33m(\u001b[0m\u001b[1;34m'allow_redirects'\u001b[0m\u001b[1;33m,\u001b[0m \u001b[1;32mTrue\u001b[0m\u001b[1;33m)\u001b[0m\u001b[1;33m\u001b[0m\u001b[1;33m\u001b[0m\u001b[0m\n\u001b[1;32m---> 76\u001b[1;33m     \u001b[1;32mreturn\u001b[0m \u001b[0mrequest\u001b[0m\u001b[1;33m(\u001b[0m\u001b[1;34m'get'\u001b[0m\u001b[1;33m,\u001b[0m \u001b[0murl\u001b[0m\u001b[1;33m,\u001b[0m \u001b[0mparams\u001b[0m\u001b[1;33m=\u001b[0m\u001b[0mparams\u001b[0m\u001b[1;33m,\u001b[0m \u001b[1;33m**\u001b[0m\u001b[0mkwargs\u001b[0m\u001b[1;33m)\u001b[0m\u001b[1;33m\u001b[0m\u001b[1;33m\u001b[0m\u001b[0m\n\u001b[0m\u001b[0;32m     77\u001b[0m \u001b[1;33m\u001b[0m\u001b[0m\n\u001b[0;32m     78\u001b[0m \u001b[1;33m\u001b[0m\u001b[0m\n",
      "\u001b[1;32m~\\Anaconda3\\envs\\waporocw\\lib\\site-packages\\requests\\api.py\u001b[0m in \u001b[0;36mrequest\u001b[1;34m(method, url, **kwargs)\u001b[0m\n\u001b[0;32m     59\u001b[0m     \u001b[1;31m# cases, and look like a memory leak in others.\u001b[0m\u001b[1;33m\u001b[0m\u001b[1;33m\u001b[0m\u001b[1;33m\u001b[0m\u001b[0m\n\u001b[0;32m     60\u001b[0m     \u001b[1;32mwith\u001b[0m \u001b[0msessions\u001b[0m\u001b[1;33m.\u001b[0m\u001b[0mSession\u001b[0m\u001b[1;33m(\u001b[0m\u001b[1;33m)\u001b[0m \u001b[1;32mas\u001b[0m \u001b[0msession\u001b[0m\u001b[1;33m:\u001b[0m\u001b[1;33m\u001b[0m\u001b[1;33m\u001b[0m\u001b[0m\n\u001b[1;32m---> 61\u001b[1;33m         \u001b[1;32mreturn\u001b[0m \u001b[0msession\u001b[0m\u001b[1;33m.\u001b[0m\u001b[0mrequest\u001b[0m\u001b[1;33m(\u001b[0m\u001b[0mmethod\u001b[0m\u001b[1;33m=\u001b[0m\u001b[0mmethod\u001b[0m\u001b[1;33m,\u001b[0m \u001b[0murl\u001b[0m\u001b[1;33m=\u001b[0m\u001b[0murl\u001b[0m\u001b[1;33m,\u001b[0m \u001b[1;33m**\u001b[0m\u001b[0mkwargs\u001b[0m\u001b[1;33m)\u001b[0m\u001b[1;33m\u001b[0m\u001b[1;33m\u001b[0m\u001b[0m\n\u001b[0m\u001b[0;32m     62\u001b[0m \u001b[1;33m\u001b[0m\u001b[0m\n\u001b[0;32m     63\u001b[0m \u001b[1;33m\u001b[0m\u001b[0m\n",
      "\u001b[1;32m~\\Anaconda3\\envs\\waporocw\\lib\\site-packages\\requests\\sessions.py\u001b[0m in \u001b[0;36mrequest\u001b[1;34m(self, method, url, params, data, headers, cookies, files, auth, timeout, allow_redirects, proxies, hooks, stream, verify, cert, json)\u001b[0m\n\u001b[0;32m    514\u001b[0m             \u001b[0mhooks\u001b[0m\u001b[1;33m=\u001b[0m\u001b[0mhooks\u001b[0m\u001b[1;33m,\u001b[0m\u001b[1;33m\u001b[0m\u001b[1;33m\u001b[0m\u001b[0m\n\u001b[0;32m    515\u001b[0m         )\n\u001b[1;32m--> 516\u001b[1;33m         \u001b[0mprep\u001b[0m \u001b[1;33m=\u001b[0m \u001b[0mself\u001b[0m\u001b[1;33m.\u001b[0m\u001b[0mprepare_request\u001b[0m\u001b[1;33m(\u001b[0m\u001b[0mreq\u001b[0m\u001b[1;33m)\u001b[0m\u001b[1;33m\u001b[0m\u001b[1;33m\u001b[0m\u001b[0m\n\u001b[0m\u001b[0;32m    517\u001b[0m \u001b[1;33m\u001b[0m\u001b[0m\n\u001b[0;32m    518\u001b[0m         \u001b[0mproxies\u001b[0m \u001b[1;33m=\u001b[0m \u001b[0mproxies\u001b[0m \u001b[1;32mor\u001b[0m \u001b[1;33m{\u001b[0m\u001b[1;33m}\u001b[0m\u001b[1;33m\u001b[0m\u001b[1;33m\u001b[0m\u001b[0m\n",
      "\u001b[1;32m~\\Anaconda3\\envs\\waporocw\\lib\\site-packages\\requests\\sessions.py\u001b[0m in \u001b[0;36mprepare_request\u001b[1;34m(self, request)\u001b[0m\n\u001b[0;32m    457\u001b[0m             \u001b[0mauth\u001b[0m\u001b[1;33m=\u001b[0m\u001b[0mmerge_setting\u001b[0m\u001b[1;33m(\u001b[0m\u001b[0mauth\u001b[0m\u001b[1;33m,\u001b[0m \u001b[0mself\u001b[0m\u001b[1;33m.\u001b[0m\u001b[0mauth\u001b[0m\u001b[1;33m)\u001b[0m\u001b[1;33m,\u001b[0m\u001b[1;33m\u001b[0m\u001b[1;33m\u001b[0m\u001b[0m\n\u001b[0;32m    458\u001b[0m             \u001b[0mcookies\u001b[0m\u001b[1;33m=\u001b[0m\u001b[0mmerged_cookies\u001b[0m\u001b[1;33m,\u001b[0m\u001b[1;33m\u001b[0m\u001b[1;33m\u001b[0m\u001b[0m\n\u001b[1;32m--> 459\u001b[1;33m             \u001b[0mhooks\u001b[0m\u001b[1;33m=\u001b[0m\u001b[0mmerge_hooks\u001b[0m\u001b[1;33m(\u001b[0m\u001b[0mrequest\u001b[0m\u001b[1;33m.\u001b[0m\u001b[0mhooks\u001b[0m\u001b[1;33m,\u001b[0m \u001b[0mself\u001b[0m\u001b[1;33m.\u001b[0m\u001b[0mhooks\u001b[0m\u001b[1;33m)\u001b[0m\u001b[1;33m,\u001b[0m\u001b[1;33m\u001b[0m\u001b[1;33m\u001b[0m\u001b[0m\n\u001b[0m\u001b[0;32m    460\u001b[0m         )\n\u001b[0;32m    461\u001b[0m         \u001b[1;32mreturn\u001b[0m \u001b[0mp\u001b[0m\u001b[1;33m\u001b[0m\u001b[1;33m\u001b[0m\u001b[0m\n",
      "\u001b[1;32m~\\Anaconda3\\envs\\waporocw\\lib\\site-packages\\requests\\models.py\u001b[0m in \u001b[0;36mprepare\u001b[1;34m(self, method, url, headers, files, data, params, auth, cookies, hooks, json)\u001b[0m\n\u001b[0;32m    312\u001b[0m \u001b[1;33m\u001b[0m\u001b[0m\n\u001b[0;32m    313\u001b[0m         \u001b[0mself\u001b[0m\u001b[1;33m.\u001b[0m\u001b[0mprepare_method\u001b[0m\u001b[1;33m(\u001b[0m\u001b[0mmethod\u001b[0m\u001b[1;33m)\u001b[0m\u001b[1;33m\u001b[0m\u001b[1;33m\u001b[0m\u001b[0m\n\u001b[1;32m--> 314\u001b[1;33m         \u001b[0mself\u001b[0m\u001b[1;33m.\u001b[0m\u001b[0mprepare_url\u001b[0m\u001b[1;33m(\u001b[0m\u001b[0murl\u001b[0m\u001b[1;33m,\u001b[0m \u001b[0mparams\u001b[0m\u001b[1;33m)\u001b[0m\u001b[1;33m\u001b[0m\u001b[1;33m\u001b[0m\u001b[0m\n\u001b[0m\u001b[0;32m    315\u001b[0m         \u001b[0mself\u001b[0m\u001b[1;33m.\u001b[0m\u001b[0mprepare_headers\u001b[0m\u001b[1;33m(\u001b[0m\u001b[0mheaders\u001b[0m\u001b[1;33m)\u001b[0m\u001b[1;33m\u001b[0m\u001b[1;33m\u001b[0m\u001b[0m\n\u001b[0;32m    316\u001b[0m         \u001b[0mself\u001b[0m\u001b[1;33m.\u001b[0m\u001b[0mprepare_cookies\u001b[0m\u001b[1;33m(\u001b[0m\u001b[0mcookies\u001b[0m\u001b[1;33m)\u001b[0m\u001b[1;33m\u001b[0m\u001b[1;33m\u001b[0m\u001b[0m\n",
      "\u001b[1;32m~\\Anaconda3\\envs\\waporocw\\lib\\site-packages\\requests\\models.py\u001b[0m in \u001b[0;36mprepare_url\u001b[1;34m(self, url, params)\u001b[0m\n\u001b[0;32m    386\u001b[0m             \u001b[0merror\u001b[0m \u001b[1;33m=\u001b[0m \u001b[0merror\u001b[0m\u001b[1;33m.\u001b[0m\u001b[0mformat\u001b[0m\u001b[1;33m(\u001b[0m\u001b[0mto_native_string\u001b[0m\u001b[1;33m(\u001b[0m\u001b[0murl\u001b[0m\u001b[1;33m,\u001b[0m \u001b[1;34m'utf8'\u001b[0m\u001b[1;33m)\u001b[0m\u001b[1;33m)\u001b[0m\u001b[1;33m\u001b[0m\u001b[1;33m\u001b[0m\u001b[0m\n\u001b[0;32m    387\u001b[0m \u001b[1;33m\u001b[0m\u001b[0m\n\u001b[1;32m--> 388\u001b[1;33m             \u001b[1;32mraise\u001b[0m \u001b[0mMissingSchema\u001b[0m\u001b[1;33m(\u001b[0m\u001b[0merror\u001b[0m\u001b[1;33m)\u001b[0m\u001b[1;33m\u001b[0m\u001b[1;33m\u001b[0m\u001b[0m\n\u001b[0m\u001b[0;32m    389\u001b[0m \u001b[1;33m\u001b[0m\u001b[0m\n\u001b[0;32m    390\u001b[0m         \u001b[1;32mif\u001b[0m \u001b[1;32mnot\u001b[0m \u001b[0mhost\u001b[0m\u001b[1;33m:\u001b[0m\u001b[1;33m\u001b[0m\u001b[1;33m\u001b[0m\u001b[0m\n",
      "\u001b[1;31mMissingSchema\u001b[0m: Invalid URL 'None': No schema supplied. Perhaps you meant http://None?"
     ]
    }
   ],
   "source": [
    "WaPOR.download_seasonal(output_dir,\n",
    "                       data='GBWP',\n",
    "                       Startdate='2009-01-01',\n",
    "                       Enddate='2019-12-31',\n",
    "                       latlim=[ymin-0.5, ymax+0.5],\n",
    "                       lonlim=[xmin-0.5, xmax+0.5],\n",
    "                       level=2,\n",
    "                       )"
   ]
  },
  {
   "cell_type": "code",
   "execution_count": 3,
   "metadata": {},
   "outputs": [],
   "source": [
    "df_avail=WaPOR.API.getAvailData('L2_GBWP_S',time_range= '2009-01-01,2019-12-31')"
   ]
  },
  {
   "cell_type": "code",
   "execution_count": 6,
   "metadata": {},
   "outputs": [],
   "source": [
    "for index,row in df_avail.iterrows():  \n",
    "    row"
   ]
  },
  {
   "cell_type": "code",
   "execution_count": 17,
   "metadata": {},
   "outputs": [
    {
     "data": {
      "text/html": [
       "<div>\n",
       "<style scoped>\n",
       "    .dataframe tbody tr th:only-of-type {\n",
       "        vertical-align: middle;\n",
       "    }\n",
       "\n",
       "    .dataframe tbody tr th {\n",
       "        vertical-align: top;\n",
       "    }\n",
       "\n",
       "    .dataframe thead th {\n",
       "        text-align: right;\n",
       "    }\n",
       "</style>\n",
       "<table border=\"1\" class=\"dataframe\">\n",
       "  <thead>\n",
       "    <tr style=\"text-align: right;\">\n",
       "      <th></th>\n",
       "      <th>YEAR</th>\n",
       "      <th>SEASON</th>\n",
       "      <th>raster_id</th>\n",
       "      <th>bbox</th>\n",
       "      <th>time_code</th>\n",
       "    </tr>\n",
       "  </thead>\n",
       "  <tbody>\n",
       "    <tr>\n",
       "      <th>0</th>\n",
       "      <td>2010</td>\n",
       "      <td>Season 1</td>\n",
       "      <td>L2_GBWP_10s1</td>\n",
       "      <td>[{'srid': 'EPSG:4326', 'value': [-30.0044643, ...</td>\n",
       "      <td>[2010-01-01,2011-01-01)</td>\n",
       "    </tr>\n",
       "    <tr>\n",
       "      <th>1</th>\n",
       "      <td>2010</td>\n",
       "      <td>Season 2</td>\n",
       "      <td>L2_GBWP_10s2</td>\n",
       "      <td>[{'srid': 'EPSG:4326', 'value': [-30.0044643, ...</td>\n",
       "      <td>[2010-01-01,2011-01-01)</td>\n",
       "    </tr>\n",
       "    <tr>\n",
       "      <th>2</th>\n",
       "      <td>2011</td>\n",
       "      <td>Season 1</td>\n",
       "      <td>L2_GBWP_11s1</td>\n",
       "      <td>[{'srid': 'EPSG:4326', 'value': [-30.0044643, ...</td>\n",
       "      <td>[2011-01-01,2012-01-01)</td>\n",
       "    </tr>\n",
       "    <tr>\n",
       "      <th>3</th>\n",
       "      <td>2011</td>\n",
       "      <td>Season 2</td>\n",
       "      <td>L2_GBWP_11s2</td>\n",
       "      <td>[{'srid': 'EPSG:4326', 'value': [-30.0044643, ...</td>\n",
       "      <td>[2011-01-01,2012-01-01)</td>\n",
       "    </tr>\n",
       "    <tr>\n",
       "      <th>4</th>\n",
       "      <td>2012</td>\n",
       "      <td>Season 1</td>\n",
       "      <td>L2_GBWP_12s1</td>\n",
       "      <td>[{'srid': 'EPSG:4326', 'value': [-30.0044643, ...</td>\n",
       "      <td>[2012-01-01,2013-01-01)</td>\n",
       "    </tr>\n",
       "    <tr>\n",
       "      <th>5</th>\n",
       "      <td>2012</td>\n",
       "      <td>Season 2</td>\n",
       "      <td>L2_GBWP_12s2</td>\n",
       "      <td>[{'srid': 'EPSG:4326', 'value': [-30.0044643, ...</td>\n",
       "      <td>[2012-01-01,2013-01-01)</td>\n",
       "    </tr>\n",
       "    <tr>\n",
       "      <th>6</th>\n",
       "      <td>2013</td>\n",
       "      <td>Season 1</td>\n",
       "      <td>L2_GBWP_13s1</td>\n",
       "      <td>[{'srid': 'EPSG:4326', 'value': [-30.0044643, ...</td>\n",
       "      <td>[2013-01-01,2014-01-01)</td>\n",
       "    </tr>\n",
       "    <tr>\n",
       "      <th>7</th>\n",
       "      <td>2013</td>\n",
       "      <td>Season 2</td>\n",
       "      <td>L2_GBWP_13s2</td>\n",
       "      <td>[{'srid': 'EPSG:4326', 'value': [-30.0044643, ...</td>\n",
       "      <td>[2013-01-01,2014-01-01)</td>\n",
       "    </tr>\n",
       "    <tr>\n",
       "      <th>8</th>\n",
       "      <td>2014</td>\n",
       "      <td>Season 1</td>\n",
       "      <td>L2_GBWP_14s1</td>\n",
       "      <td>[{'srid': 'EPSG:4326', 'value': [-30.0044643, ...</td>\n",
       "      <td>[2014-01-01,2015-01-01)</td>\n",
       "    </tr>\n",
       "    <tr>\n",
       "      <th>9</th>\n",
       "      <td>2014</td>\n",
       "      <td>Season 2</td>\n",
       "      <td>L2_GBWP_14s2</td>\n",
       "      <td>[{'srid': 'EPSG:4326', 'value': [-30.0044643, ...</td>\n",
       "      <td>[2014-01-01,2015-01-01)</td>\n",
       "    </tr>\n",
       "    <tr>\n",
       "      <th>10</th>\n",
       "      <td>2015</td>\n",
       "      <td>Season 1</td>\n",
       "      <td>L2_GBWP_15s1</td>\n",
       "      <td>[{'srid': 'EPSG:4326', 'value': [-30.0044643, ...</td>\n",
       "      <td>[2015-01-01,2016-01-01)</td>\n",
       "    </tr>\n",
       "    <tr>\n",
       "      <th>11</th>\n",
       "      <td>2015</td>\n",
       "      <td>Season 2</td>\n",
       "      <td>L2_GBWP_15s2</td>\n",
       "      <td>[{'srid': 'EPSG:4326', 'value': [-30.0044643, ...</td>\n",
       "      <td>[2015-01-01,2016-01-01)</td>\n",
       "    </tr>\n",
       "    <tr>\n",
       "      <th>12</th>\n",
       "      <td>2016</td>\n",
       "      <td>Season 1</td>\n",
       "      <td>L2_GBWP_16s1</td>\n",
       "      <td>[{'srid': 'EPSG:4326', 'value': [-30.0044643, ...</td>\n",
       "      <td>[2016-01-01,2017-01-01)</td>\n",
       "    </tr>\n",
       "    <tr>\n",
       "      <th>13</th>\n",
       "      <td>2016</td>\n",
       "      <td>Season 2</td>\n",
       "      <td>L2_GBWP_16s2</td>\n",
       "      <td>[{'srid': 'EPSG:4326', 'value': [-30.0044643, ...</td>\n",
       "      <td>[2016-01-01,2017-01-01)</td>\n",
       "    </tr>\n",
       "    <tr>\n",
       "      <th>14</th>\n",
       "      <td>2017</td>\n",
       "      <td>Season 1</td>\n",
       "      <td>L2_GBWP_17s1</td>\n",
       "      <td>[{'srid': 'EPSG:4326', 'value': [-30.0044643, ...</td>\n",
       "      <td>[2017-01-01,2018-01-01)</td>\n",
       "    </tr>\n",
       "    <tr>\n",
       "      <th>15</th>\n",
       "      <td>2017</td>\n",
       "      <td>Season 2</td>\n",
       "      <td>L2_GBWP_17s2</td>\n",
       "      <td>[{'srid': 'EPSG:4326', 'value': [-30.0044643, ...</td>\n",
       "      <td>[2017-01-01,2018-01-01)</td>\n",
       "    </tr>\n",
       "    <tr>\n",
       "      <th>16</th>\n",
       "      <td>2018</td>\n",
       "      <td>Season 1</td>\n",
       "      <td>L2_GBWP_18s1</td>\n",
       "      <td>[{'srid': 'EPSG:4326', 'value': [-30.0044643, ...</td>\n",
       "      <td>[2018-01-01,2019-01-01)</td>\n",
       "    </tr>\n",
       "    <tr>\n",
       "      <th>17</th>\n",
       "      <td>2018</td>\n",
       "      <td>Season 2</td>\n",
       "      <td>L2_GBWP_18s2</td>\n",
       "      <td>[{'srid': 'EPSG:4326', 'value': [-30.0044643, ...</td>\n",
       "      <td>[2018-01-01,2019-01-01)</td>\n",
       "    </tr>\n",
       "  </tbody>\n",
       "</table>\n",
       "</div>"
      ],
      "text/plain": [
       "    YEAR    SEASON     raster_id  \\\n",
       "0   2010  Season 1  L2_GBWP_10s1   \n",
       "1   2010  Season 2  L2_GBWP_10s2   \n",
       "2   2011  Season 1  L2_GBWP_11s1   \n",
       "3   2011  Season 2  L2_GBWP_11s2   \n",
       "4   2012  Season 1  L2_GBWP_12s1   \n",
       "5   2012  Season 2  L2_GBWP_12s2   \n",
       "6   2013  Season 1  L2_GBWP_13s1   \n",
       "7   2013  Season 2  L2_GBWP_13s2   \n",
       "8   2014  Season 1  L2_GBWP_14s1   \n",
       "9   2014  Season 2  L2_GBWP_14s2   \n",
       "10  2015  Season 1  L2_GBWP_15s1   \n",
       "11  2015  Season 2  L2_GBWP_15s2   \n",
       "12  2016  Season 1  L2_GBWP_16s1   \n",
       "13  2016  Season 2  L2_GBWP_16s2   \n",
       "14  2017  Season 1  L2_GBWP_17s1   \n",
       "15  2017  Season 2  L2_GBWP_17s2   \n",
       "16  2018  Season 1  L2_GBWP_18s1   \n",
       "17  2018  Season 2  L2_GBWP_18s2   \n",
       "\n",
       "                                                 bbox                time_code  \n",
       "0   [{'srid': 'EPSG:4326', 'value': [-30.0044643, ...  [2010-01-01,2011-01-01)  \n",
       "1   [{'srid': 'EPSG:4326', 'value': [-30.0044643, ...  [2010-01-01,2011-01-01)  \n",
       "2   [{'srid': 'EPSG:4326', 'value': [-30.0044643, ...  [2011-01-01,2012-01-01)  \n",
       "3   [{'srid': 'EPSG:4326', 'value': [-30.0044643, ...  [2011-01-01,2012-01-01)  \n",
       "4   [{'srid': 'EPSG:4326', 'value': [-30.0044643, ...  [2012-01-01,2013-01-01)  \n",
       "5   [{'srid': 'EPSG:4326', 'value': [-30.0044643, ...  [2012-01-01,2013-01-01)  \n",
       "6   [{'srid': 'EPSG:4326', 'value': [-30.0044643, ...  [2013-01-01,2014-01-01)  \n",
       "7   [{'srid': 'EPSG:4326', 'value': [-30.0044643, ...  [2013-01-01,2014-01-01)  \n",
       "8   [{'srid': 'EPSG:4326', 'value': [-30.0044643, ...  [2014-01-01,2015-01-01)  \n",
       "9   [{'srid': 'EPSG:4326', 'value': [-30.0044643, ...  [2014-01-01,2015-01-01)  \n",
       "10  [{'srid': 'EPSG:4326', 'value': [-30.0044643, ...  [2015-01-01,2016-01-01)  \n",
       "11  [{'srid': 'EPSG:4326', 'value': [-30.0044643, ...  [2015-01-01,2016-01-01)  \n",
       "12  [{'srid': 'EPSG:4326', 'value': [-30.0044643, ...  [2016-01-01,2017-01-01)  \n",
       "13  [{'srid': 'EPSG:4326', 'value': [-30.0044643, ...  [2016-01-01,2017-01-01)  \n",
       "14  [{'srid': 'EPSG:4326', 'value': [-30.0044643, ...  [2017-01-01,2018-01-01)  \n",
       "15  [{'srid': 'EPSG:4326', 'value': [-30.0044643, ...  [2017-01-01,2018-01-01)  \n",
       "16  [{'srid': 'EPSG:4326', 'value': [-30.0044643, ...  [2018-01-01,2019-01-01)  \n",
       "17  [{'srid': 'EPSG:4326', 'value': [-30.0044643, ...  [2018-01-01,2019-01-01)  "
      ]
     },
     "execution_count": 17,
     "metadata": {},
     "output_type": "execute_result"
    }
   ],
   "source": [
    "df_avail"
   ]
  },
  {
   "cell_type": "code",
   "execution_count": 10,
   "metadata": {},
   "outputs": [],
   "source": [
    "latlim=[ymin-0.5, ymax+0.5]\n",
    "lonlim=[xmin-0.5, xmax+0.5]\n",
    "bbox=[lonlim[0],latlim[0],lonlim[1],latlim[1]]\n",
    "cube_code='L2_GBWP_S'"
   ]
  },
  {
   "cell_type": "code",
   "execution_count": null,
   "metadata": {},
   "outputs": [],
   "source": []
  },
  {
   "cell_type": "code",
   "execution_count": 11,
   "metadata": {},
   "outputs": [
    {
     "name": "stdout",
     "output_type": "stream",
     "text": [
      "Getting download url from: https://io.apps.fao.org/gismgr/api/v1/catalog/workspaces/WAPOR_2/jobs/f8d1b9de-b7c5-4fcd-ab65-83f7e3c3397c\n",
      "['Tue Jan 26 13:20:20 UTC 2021 - started', 'Tue Jan 26 13:20:20 UTC 2021 - query parameters successfully parsed', 'Tue Jan 26 13:20:20 UTC 2021 - ERROR: Incorrect result size: expected 1, actual 2', 'Tue Jan 26 13:20:25 UTC 2021 - completed with errors']\n"
     ]
    }
   ],
   "source": [
    "download_url=WaPOR.API.getCropRasterURL(bbox,cube_code,\n",
    "                                               row['time_code'],\n",
    "                                               row['raster_id'],\n",
    "                                               WaPOR.API.Token,\n",
    "                                               print_job=True)               "
   ]
  },
  {
   "cell_type": "code",
   "execution_count": 18,
   "metadata": {},
   "outputs": [
    {
     "data": {
      "text/plain": [
       "'L2_GBWP_18s2'"
      ]
     },
     "execution_count": 18,
     "metadata": {},
     "output_type": "execute_result"
    }
   ],
   "source": [
    " row['raster_id']"
   ]
  },
  {
   "cell_type": "code",
   "execution_count": 14,
   "metadata": {},
   "outputs": [],
   "source": [
    "cube_info=WaPOR.API.getCubeInfo(cube_code)"
   ]
  },
  {
   "cell_type": "code",
   "execution_count": 15,
   "metadata": {},
   "outputs": [],
   "source": [
    "cube_measure_code=cube_info['measure']['code']\n",
    "cube_dimensions=cube_info['dimension']"
   ]
  },
  {
   "cell_type": "code",
   "execution_count": null,
   "metadata": {},
   "outputs": [],
   "source": []
  },
  {
   "cell_type": "code",
   "execution_count": 19,
   "metadata": {},
   "outputs": [
    {
     "data": {
      "text/plain": [
       "'WPR'"
      ]
     },
     "execution_count": 19,
     "metadata": {},
     "output_type": "execute_result"
    }
   ],
   "source": [
    "cube_measure_code"
   ]
  },
  {
   "cell_type": "code",
   "execution_count": 16,
   "metadata": {},
   "outputs": [
    {
     "data": {
      "text/plain": [
       "[{'code': 'YEAR',\n",
       "  'caption': 'Year',\n",
       "  'description': 'Year',\n",
       "  'workspaceCode': 'WAPOR_2',\n",
       "  'hierarchical': False,\n",
       "  'type': 'TIME',\n",
       "  'timeSubtype': 'YEAR',\n",
       "  'index': 1,\n",
       "  'links': [{'rel': 'self',\n",
       "    'href': 'https://io.apps.fao.org/gismgr/api/v1/catalog/workspaces/WAPOR_2/cubes/L2_GBWP_S/dimensions/YEAR'}]},\n",
       " {'code': 'SEASON',\n",
       "  'caption': 'Season',\n",
       "  'description': 'Refers to the growing season. The length and number may vary, with a maximum of 2 growing seasons per year.',\n",
       "  'workspaceCode': 'WAPOR_2',\n",
       "  'hierarchical': False,\n",
       "  'type': 'WHAT',\n",
       "  'index': 2,\n",
       "  'links': [{'rel': 'self',\n",
       "    'href': 'https://io.apps.fao.org/gismgr/api/v1/catalog/workspaces/WAPOR_2/cubes/L2_GBWP_S/dimensions/SEASON'}]}]"
      ]
     },
     "execution_count": 16,
     "metadata": {},
     "output_type": "execute_result"
    }
   ],
   "source": [
    "cube_dimensions"
   ]
  },
  {
   "cell_type": "code",
   "execution_count": null,
   "metadata": {},
   "outputs": [],
   "source": []
  },
  {
   "cell_type": "code",
   "execution_count": 20,
   "metadata": {},
   "outputs": [
    {
     "data": {
      "text/html": [
       "<div>\n",
       "<style scoped>\n",
       "    .dataframe tbody tr th:only-of-type {\n",
       "        vertical-align: middle;\n",
       "    }\n",
       "\n",
       "    .dataframe tbody tr th {\n",
       "        vertical-align: top;\n",
       "    }\n",
       "\n",
       "    .dataframe thead th {\n",
       "        text-align: right;\n",
       "    }\n",
       "</style>\n",
       "<table border=\"1\" class=\"dataframe\">\n",
       "  <thead>\n",
       "    <tr style=\"text-align: right;\">\n",
       "      <th></th>\n",
       "      <th>YEAR</th>\n",
       "      <th>SEASON</th>\n",
       "      <th>raster_id</th>\n",
       "      <th>bbox</th>\n",
       "      <th>time_code</th>\n",
       "    </tr>\n",
       "  </thead>\n",
       "  <tbody>\n",
       "    <tr>\n",
       "      <th>0</th>\n",
       "      <td>2010</td>\n",
       "      <td>Season 1</td>\n",
       "      <td>L2_GBWP_10s1</td>\n",
       "      <td>[{'srid': 'EPSG:4326', 'value': [-30.0044643, ...</td>\n",
       "      <td>[2010-01-01,2011-01-01)</td>\n",
       "    </tr>\n",
       "    <tr>\n",
       "      <th>1</th>\n",
       "      <td>2010</td>\n",
       "      <td>Season 2</td>\n",
       "      <td>L2_GBWP_10s2</td>\n",
       "      <td>[{'srid': 'EPSG:4326', 'value': [-30.0044643, ...</td>\n",
       "      <td>[2010-01-01,2011-01-01)</td>\n",
       "    </tr>\n",
       "    <tr>\n",
       "      <th>2</th>\n",
       "      <td>2011</td>\n",
       "      <td>Season 1</td>\n",
       "      <td>L2_GBWP_11s1</td>\n",
       "      <td>[{'srid': 'EPSG:4326', 'value': [-30.0044643, ...</td>\n",
       "      <td>[2011-01-01,2012-01-01)</td>\n",
       "    </tr>\n",
       "    <tr>\n",
       "      <th>3</th>\n",
       "      <td>2011</td>\n",
       "      <td>Season 2</td>\n",
       "      <td>L2_GBWP_11s2</td>\n",
       "      <td>[{'srid': 'EPSG:4326', 'value': [-30.0044643, ...</td>\n",
       "      <td>[2011-01-01,2012-01-01)</td>\n",
       "    </tr>\n",
       "    <tr>\n",
       "      <th>4</th>\n",
       "      <td>2012</td>\n",
       "      <td>Season 1</td>\n",
       "      <td>L2_GBWP_12s1</td>\n",
       "      <td>[{'srid': 'EPSG:4326', 'value': [-30.0044643, ...</td>\n",
       "      <td>[2012-01-01,2013-01-01)</td>\n",
       "    </tr>\n",
       "    <tr>\n",
       "      <th>5</th>\n",
       "      <td>2012</td>\n",
       "      <td>Season 2</td>\n",
       "      <td>L2_GBWP_12s2</td>\n",
       "      <td>[{'srid': 'EPSG:4326', 'value': [-30.0044643, ...</td>\n",
       "      <td>[2012-01-01,2013-01-01)</td>\n",
       "    </tr>\n",
       "    <tr>\n",
       "      <th>6</th>\n",
       "      <td>2013</td>\n",
       "      <td>Season 1</td>\n",
       "      <td>L2_GBWP_13s1</td>\n",
       "      <td>[{'srid': 'EPSG:4326', 'value': [-30.0044643, ...</td>\n",
       "      <td>[2013-01-01,2014-01-01)</td>\n",
       "    </tr>\n",
       "    <tr>\n",
       "      <th>7</th>\n",
       "      <td>2013</td>\n",
       "      <td>Season 2</td>\n",
       "      <td>L2_GBWP_13s2</td>\n",
       "      <td>[{'srid': 'EPSG:4326', 'value': [-30.0044643, ...</td>\n",
       "      <td>[2013-01-01,2014-01-01)</td>\n",
       "    </tr>\n",
       "    <tr>\n",
       "      <th>8</th>\n",
       "      <td>2014</td>\n",
       "      <td>Season 1</td>\n",
       "      <td>L2_GBWP_14s1</td>\n",
       "      <td>[{'srid': 'EPSG:4326', 'value': [-30.0044643, ...</td>\n",
       "      <td>[2014-01-01,2015-01-01)</td>\n",
       "    </tr>\n",
       "    <tr>\n",
       "      <th>9</th>\n",
       "      <td>2014</td>\n",
       "      <td>Season 2</td>\n",
       "      <td>L2_GBWP_14s2</td>\n",
       "      <td>[{'srid': 'EPSG:4326', 'value': [-30.0044643, ...</td>\n",
       "      <td>[2014-01-01,2015-01-01)</td>\n",
       "    </tr>\n",
       "    <tr>\n",
       "      <th>10</th>\n",
       "      <td>2015</td>\n",
       "      <td>Season 1</td>\n",
       "      <td>L2_GBWP_15s1</td>\n",
       "      <td>[{'srid': 'EPSG:4326', 'value': [-30.0044643, ...</td>\n",
       "      <td>[2015-01-01,2016-01-01)</td>\n",
       "    </tr>\n",
       "    <tr>\n",
       "      <th>11</th>\n",
       "      <td>2015</td>\n",
       "      <td>Season 2</td>\n",
       "      <td>L2_GBWP_15s2</td>\n",
       "      <td>[{'srid': 'EPSG:4326', 'value': [-30.0044643, ...</td>\n",
       "      <td>[2015-01-01,2016-01-01)</td>\n",
       "    </tr>\n",
       "    <tr>\n",
       "      <th>12</th>\n",
       "      <td>2016</td>\n",
       "      <td>Season 1</td>\n",
       "      <td>L2_GBWP_16s1</td>\n",
       "      <td>[{'srid': 'EPSG:4326', 'value': [-30.0044643, ...</td>\n",
       "      <td>[2016-01-01,2017-01-01)</td>\n",
       "    </tr>\n",
       "    <tr>\n",
       "      <th>13</th>\n",
       "      <td>2016</td>\n",
       "      <td>Season 2</td>\n",
       "      <td>L2_GBWP_16s2</td>\n",
       "      <td>[{'srid': 'EPSG:4326', 'value': [-30.0044643, ...</td>\n",
       "      <td>[2016-01-01,2017-01-01)</td>\n",
       "    </tr>\n",
       "    <tr>\n",
       "      <th>14</th>\n",
       "      <td>2017</td>\n",
       "      <td>Season 1</td>\n",
       "      <td>L2_GBWP_17s1</td>\n",
       "      <td>[{'srid': 'EPSG:4326', 'value': [-30.0044643, ...</td>\n",
       "      <td>[2017-01-01,2018-01-01)</td>\n",
       "    </tr>\n",
       "    <tr>\n",
       "      <th>15</th>\n",
       "      <td>2017</td>\n",
       "      <td>Season 2</td>\n",
       "      <td>L2_GBWP_17s2</td>\n",
       "      <td>[{'srid': 'EPSG:4326', 'value': [-30.0044643, ...</td>\n",
       "      <td>[2017-01-01,2018-01-01)</td>\n",
       "    </tr>\n",
       "    <tr>\n",
       "      <th>16</th>\n",
       "      <td>2018</td>\n",
       "      <td>Season 1</td>\n",
       "      <td>L2_GBWP_18s1</td>\n",
       "      <td>[{'srid': 'EPSG:4326', 'value': [-30.0044643, ...</td>\n",
       "      <td>[2018-01-01,2019-01-01)</td>\n",
       "    </tr>\n",
       "    <tr>\n",
       "      <th>17</th>\n",
       "      <td>2018</td>\n",
       "      <td>Season 2</td>\n",
       "      <td>L2_GBWP_18s2</td>\n",
       "      <td>[{'srid': 'EPSG:4326', 'value': [-30.0044643, ...</td>\n",
       "      <td>[2018-01-01,2019-01-01)</td>\n",
       "    </tr>\n",
       "  </tbody>\n",
       "</table>\n",
       "</div>"
      ],
      "text/plain": [
       "    YEAR    SEASON     raster_id  \\\n",
       "0   2010  Season 1  L2_GBWP_10s1   \n",
       "1   2010  Season 2  L2_GBWP_10s2   \n",
       "2   2011  Season 1  L2_GBWP_11s1   \n",
       "3   2011  Season 2  L2_GBWP_11s2   \n",
       "4   2012  Season 1  L2_GBWP_12s1   \n",
       "5   2012  Season 2  L2_GBWP_12s2   \n",
       "6   2013  Season 1  L2_GBWP_13s1   \n",
       "7   2013  Season 2  L2_GBWP_13s2   \n",
       "8   2014  Season 1  L2_GBWP_14s1   \n",
       "9   2014  Season 2  L2_GBWP_14s2   \n",
       "10  2015  Season 1  L2_GBWP_15s1   \n",
       "11  2015  Season 2  L2_GBWP_15s2   \n",
       "12  2016  Season 1  L2_GBWP_16s1   \n",
       "13  2016  Season 2  L2_GBWP_16s2   \n",
       "14  2017  Season 1  L2_GBWP_17s1   \n",
       "15  2017  Season 2  L2_GBWP_17s2   \n",
       "16  2018  Season 1  L2_GBWP_18s1   \n",
       "17  2018  Season 2  L2_GBWP_18s2   \n",
       "\n",
       "                                                 bbox                time_code  \n",
       "0   [{'srid': 'EPSG:4326', 'value': [-30.0044643, ...  [2010-01-01,2011-01-01)  \n",
       "1   [{'srid': 'EPSG:4326', 'value': [-30.0044643, ...  [2010-01-01,2011-01-01)  \n",
       "2   [{'srid': 'EPSG:4326', 'value': [-30.0044643, ...  [2011-01-01,2012-01-01)  \n",
       "3   [{'srid': 'EPSG:4326', 'value': [-30.0044643, ...  [2011-01-01,2012-01-01)  \n",
       "4   [{'srid': 'EPSG:4326', 'value': [-30.0044643, ...  [2012-01-01,2013-01-01)  \n",
       "5   [{'srid': 'EPSG:4326', 'value': [-30.0044643, ...  [2012-01-01,2013-01-01)  \n",
       "6   [{'srid': 'EPSG:4326', 'value': [-30.0044643, ...  [2013-01-01,2014-01-01)  \n",
       "7   [{'srid': 'EPSG:4326', 'value': [-30.0044643, ...  [2013-01-01,2014-01-01)  \n",
       "8   [{'srid': 'EPSG:4326', 'value': [-30.0044643, ...  [2014-01-01,2015-01-01)  \n",
       "9   [{'srid': 'EPSG:4326', 'value': [-30.0044643, ...  [2014-01-01,2015-01-01)  \n",
       "10  [{'srid': 'EPSG:4326', 'value': [-30.0044643, ...  [2015-01-01,2016-01-01)  \n",
       "11  [{'srid': 'EPSG:4326', 'value': [-30.0044643, ...  [2015-01-01,2016-01-01)  \n",
       "12  [{'srid': 'EPSG:4326', 'value': [-30.0044643, ...  [2016-01-01,2017-01-01)  \n",
       "13  [{'srid': 'EPSG:4326', 'value': [-30.0044643, ...  [2016-01-01,2017-01-01)  \n",
       "14  [{'srid': 'EPSG:4326', 'value': [-30.0044643, ...  [2017-01-01,2018-01-01)  \n",
       "15  [{'srid': 'EPSG:4326', 'value': [-30.0044643, ...  [2017-01-01,2018-01-01)  \n",
       "16  [{'srid': 'EPSG:4326', 'value': [-30.0044643, ...  [2018-01-01,2019-01-01)  \n",
       "17  [{'srid': 'EPSG:4326', 'value': [-30.0044643, ...  [2018-01-01,2019-01-01)  "
      ]
     },
     "execution_count": 20,
     "metadata": {},
     "output_type": "execute_result"
    }
   ],
   "source": [
    "WaPOR.API.getAvailData('L2_GBWP_S',time_range= '2009-01-01,2019-12-31',season=['S1','S2'])"
   ]
  },
  {
   "cell_type": "code",
   "execution_count": 24,
   "metadata": {},
   "outputs": [
    {
     "ename": "SyntaxError",
     "evalue": "unexpected EOF while parsing (<ipython-input-24-a714f85ff7b3>, line 48)",
     "output_type": "error",
     "traceback": [
      "\u001b[1;36m  File \u001b[1;32m\"<ipython-input-24-a714f85ff7b3>\"\u001b[1;36m, line \u001b[1;32m48\u001b[0m\n\u001b[1;33m    rows_codes.append(dims['code'])\u001b[0m\n\u001b[1;37m                                    ^\u001b[0m\n\u001b[1;31mSyntaxError\u001b[0m\u001b[1;31m:\u001b[0m unexpected EOF while parsing\n"
     ]
    }
   ],
   "source": [
    "cube_code='L2_GBWP_S'\n",
    "time_range='2009-01-01,2018-12-31'\n",
    "\n",
    "season=['S1','S2']\n",
    "\n",
    "try:\n",
    "    cube_info=self.getCubeInfo(cube_code)\n",
    "    #get measures    \n",
    "    measure_code=cube_info['measure']['code']\n",
    "    #get dimension\n",
    "    dimensions=cube_info['dimension']\n",
    "except:\n",
    "    print('ERROR: Cannot get cube info')\n",
    "\n",
    "dims_ls=[]\n",
    "columns_codes=['MEASURES']\n",
    "rows_codes=[]\n",
    "try:\n",
    "    for dims in dimensions:\n",
    "        if dims['type']=='TIME': #get time dims\n",
    "            time_dims_code=dims['code']\n",
    "            df_time=self._query_dimensionsMembers(cube_code,time_dims_code)\n",
    "            time_dims= {\n",
    "                \"code\": time_dims_code,\n",
    "                \"range\": '[{0})'.format(time_range)\n",
    "                }\n",
    "            dims_ls.append(time_dims)\n",
    "            rows_codes.append(time_dims_code)\n",
    "        if dims['type']=='WHAT':\n",
    "            dims_code=dims['code']\n",
    "            df_dims=self._query_dimensionsMembers(cube_code,dims_code) \n",
    "            members_ls=[row['code'] for i,row in df_dims.iterrows()]\n",
    "            if (dims_code=='COUNTRY' or dims_code=='BASIN'):\n",
    "                if location:\n",
    "                    members_ls=location\n",
    "            if (dims_code=='SEASON'):\n",
    "                if season:\n",
    "                    members_ls=season\n",
    "            if (dims_code=='STAGE'):\n",
    "                if stage:\n",
    "                    members_ls=stage    \n",
    "\n",
    "            what_dims={\n",
    "                    \"code\":dims['code'],\n",
    "                    \"values\":members_ls\n",
    "                    }\n",
    "            dims_ls.append(what_dims)\n",
    "            rows_codes.append(dims['code']) \n"
   ]
  },
  {
   "cell_type": "code",
   "execution_count": 26,
   "metadata": {},
   "outputs": [],
   "source": [
    "cube_info=WaPOR.API.getCubeInfo(cube_code)\n",
    "#get measures    \n",
    "measure_code=cube_info['measure']['code']\n",
    "#get dimension\n",
    "dimensions=cube_info['dimension']"
   ]
  },
  {
   "cell_type": "code",
   "execution_count": 27,
   "metadata": {},
   "outputs": [],
   "source": [
    "dims_ls=[]\n",
    "columns_codes=['MEASURES']\n",
    "rows_codes=[]"
   ]
  },
  {
   "cell_type": "code",
   "execution_count": 30,
   "metadata": {},
   "outputs": [],
   "source": [
    "time_range='2009-01-01,2018-12-31'\n",
    "for dims in dimensions:  \n",
    "    if dims['type']=='WHAT':\n",
    "        dims_code=dims['code']\n",
    "        df_dims=self._query_dimensionsMembers(cube_code,dims_code) \n",
    "        members_ls=[row['code'] for i,row in df_dims.iterrows()]\n",
    "        if (dims_code=='COUNTRY' or dims_code=='BASIN'):\n",
    "            if location:\n",
    "                members_ls=location\n",
    "        if (dims_code=='SEASON'):\n",
    "            if season:\n",
    "                members_ls=season\n",
    "        if (dims_code=='STAGE'):\n",
    "            if stage:\n",
    "                members_ls=stage    \n",
    "\n",
    "        what_dims={\n",
    "                \"code\":dims['code'],\n",
    "                \"values\":members_ls\n",
    "                }\n",
    "        dims_ls.append(what_dims)\n",
    "        rows_codes.append(dims['code'])"
   ]
  },
  {
   "cell_type": "code",
   "execution_count": 32,
   "metadata": {},
   "outputs": [
    {
     "data": {
      "text/plain": [
       "[{'code': 'YEAR', 'range': '[2009-01-01,2018-12-31)'}]"
      ]
     },
     "execution_count": 32,
     "metadata": {},
     "output_type": "execute_result"
    }
   ],
   "source": [
    "dims_ls"
   ]
  }
 ],
 "metadata": {
  "kernelspec": {
   "display_name": "Python 3",
   "language": "python",
   "name": "python3"
  },
  "language_info": {
   "codemirror_mode": {
    "name": "ipython",
    "version": 3
   },
   "file_extension": ".py",
   "mimetype": "text/x-python",
   "name": "python",
   "nbconvert_exporter": "python",
   "pygments_lexer": "ipython3",
   "version": "3.7.9"
  }
 },
 "nbformat": 4,
 "nbformat_minor": 4
}
