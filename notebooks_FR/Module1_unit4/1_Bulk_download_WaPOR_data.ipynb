{
 "cells": [
  {
   "cell_type": "markdown",
   "metadata": {},
   "source": [
    "# Télécharger en block les données de WaPOR\n",
    "\n",
    "Dans ce notebook, nous utiliserons le module Python local pour automatiser les étapes de lecture des métadonnées de l'ensemble de données, demander l'URL de téléchargement, télécharger l'ensemble de données raster, prétraiter l'ensemble de données raster en utilisant les informations des métadonnées (telles que le facteur de conversion, l'unité). **Les données téléchargées par ce script seront automatiquement corrigées par le facteur de conversion**.\n",
    "\n",
    "Exécutez la cellule de code ci-dessous pour importer les packages et les modules nécessaires. Il vous sera demandé de fournir la clé API WaPOR (voir [Start here](0_Start_here.ipynb) la page Démarrer ici pour savoir comment obtenir la clé API). Le module **WaPOR** module gardera votre clé en mémoire et l'enregistrera dans le dossier du module. Si vous souhaitez utiliser une nouvelle clé API, vous devez supprimer ce fichier \n",
    "**'modules\\WaPOR\\wapor_api_token.pickle'**"
   ]
  },
  {
   "cell_type": "code",
   "execution_count": 1,
   "metadata": {},
   "outputs": [
    {
     "name": "stdout",
     "output_type": "stream",
     "text": [
      "Loading WaPOR catalog...\n",
      "Loading WaPOR catalog...Done\n"
     ]
    },
    {
     "data": {
      "text/html": [
       "<div>\n",
       "<style scoped>\n",
       "    .dataframe tbody tr th:only-of-type {\n",
       "        vertical-align: middle;\n",
       "    }\n",
       "\n",
       "    .dataframe tbody tr th {\n",
       "        vertical-align: top;\n",
       "    }\n",
       "\n",
       "    .dataframe thead th {\n",
       "        text-align: right;\n",
       "    }\n",
       "</style>\n",
       "<table border=\"1\" class=\"dataframe\">\n",
       "  <thead>\n",
       "    <tr style=\"text-align: right;\">\n",
       "      <th></th>\n",
       "      <th>code</th>\n",
       "      <th>caption</th>\n",
       "      <th>description</th>\n",
       "      <th>additionalInfo</th>\n",
       "      <th>tags</th>\n",
       "      <th>workspaceCode</th>\n",
       "      <th>dataType</th>\n",
       "      <th>index</th>\n",
       "      <th>operation</th>\n",
       "      <th>hidden</th>\n",
       "      <th>links</th>\n",
       "      <th>measure</th>\n",
       "      <th>dimension</th>\n",
       "    </tr>\n",
       "  </thead>\n",
       "  <tbody>\n",
       "    <tr>\n",
       "      <th>0</th>\n",
       "      <td>L1_GBWP_A</td>\n",
       "      <td>Gross Biomass Water Productivity</td>\n",
       "      <td>The annual Gross Biomass Water Productivity ex...</td>\n",
       "      <td>{'format': 'Raster Dataset', 'unit': 'kg/m³ is...</td>\n",
       "      <td>[{'name': 'L1', 'index': 1, 'context': 'LEVELS...</td>\n",
       "      <td>WAPOR_2</td>\n",
       "      <td>RASTER</td>\n",
       "      <td>101</td>\n",
       "      <td>{'pixelTimeSeries': True, 'areaStatsTimeSeries...</td>\n",
       "      <td>False</td>\n",
       "      <td>[{'rel': 'self', 'href': 'https://io.apps.fao....</td>\n",
       "      <td>{'code': 'WPR', 'caption': 'Water Productivity...</td>\n",
       "      <td>[{'code': 'YEAR', 'caption': 'Year', 'descript...</td>\n",
       "    </tr>\n",
       "    <tr>\n",
       "      <th>1</th>\n",
       "      <td>L1_NBWP_A</td>\n",
       "      <td>Net Biomass Water Productivity</td>\n",
       "      <td>The annual Net Biomass Water Productivity expr...</td>\n",
       "      <td>{'format': 'Raster Dataset', 'unit': 'kg/m³ is...</td>\n",
       "      <td>[{'name': 'L1', 'index': 2, 'context': 'LEVELS...</td>\n",
       "      <td>WAPOR_2</td>\n",
       "      <td>RASTER</td>\n",
       "      <td>102</td>\n",
       "      <td>{'pixelTimeSeries': True, 'areaStatsTimeSeries...</td>\n",
       "      <td>False</td>\n",
       "      <td>[{'rel': 'self', 'href': 'https://io.apps.fao....</td>\n",
       "      <td>{'code': 'WPR', 'caption': 'Water Productivity...</td>\n",
       "      <td>[{'code': 'YEAR', 'caption': 'Year', 'descript...</td>\n",
       "    </tr>\n",
       "    <tr>\n",
       "      <th>2</th>\n",
       "      <td>L1_AETI_A</td>\n",
       "      <td>Actual EvapoTranspiration and Interception (An...</td>\n",
       "      <td>The actual EvapoTranspiration and Interception...</td>\n",
       "      <td>{'format': 'Raster Dataset', 'unit': 'mm', 'da...</td>\n",
       "      <td>[{'name': 'L1', 'index': 3, 'context': 'LEVELS...</td>\n",
       "      <td>WAPOR_2</td>\n",
       "      <td>RASTER</td>\n",
       "      <td>103</td>\n",
       "      <td>{'pixelTimeSeries': True, 'areaStatsTimeSeries...</td>\n",
       "      <td>False</td>\n",
       "      <td>[{'rel': 'self', 'href': 'https://io.apps.fao....</td>\n",
       "      <td>{'code': 'WATER_MM', 'caption': 'Amount of Wat...</td>\n",
       "      <td>[{'code': 'YEAR', 'caption': 'Year', 'descript...</td>\n",
       "    </tr>\n",
       "    <tr>\n",
       "      <th>3</th>\n",
       "      <td>L1_AETI_M</td>\n",
       "      <td>Actual EvapoTranspiration and Interception (Mo...</td>\n",
       "      <td>The actual EvapoTranspiration and Interception...</td>\n",
       "      <td>{'format': 'Raster Dataset', 'unit': 'mm', 'da...</td>\n",
       "      <td>[{'name': 'L1', 'index': 4, 'context': 'LEVELS...</td>\n",
       "      <td>WAPOR_2</td>\n",
       "      <td>RASTER</td>\n",
       "      <td>104</td>\n",
       "      <td>{'pixelTimeSeries': True, 'areaStatsTimeSeries...</td>\n",
       "      <td>False</td>\n",
       "      <td>[{'rel': 'self', 'href': 'https://io.apps.fao....</td>\n",
       "      <td>{'code': 'WATER_MM', 'caption': 'Amount of Wat...</td>\n",
       "      <td>[{'code': 'MONTH', 'caption': 'Month', 'worksp...</td>\n",
       "    </tr>\n",
       "    <tr>\n",
       "      <th>4</th>\n",
       "      <td>L1_AETI_D</td>\n",
       "      <td>Actual EvapoTranspiration and Interception (De...</td>\n",
       "      <td>The actual EvapoTranspiration and Interception...</td>\n",
       "      <td>{'format': 'Raster Dataset', 'unit': 'mm', 'da...</td>\n",
       "      <td>[{'name': 'L1', 'index': 5, 'context': 'LEVELS...</td>\n",
       "      <td>WAPOR_2</td>\n",
       "      <td>RASTER</td>\n",
       "      <td>105</td>\n",
       "      <td>{'pixelTimeSeries': True, 'areaStatsTimeSeries...</td>\n",
       "      <td>False</td>\n",
       "      <td>[{'rel': 'self', 'href': 'https://io.apps.fao....</td>\n",
       "      <td>{'code': 'WATER_MM', 'caption': 'Amount of Wat...</td>\n",
       "      <td>[{'code': 'DEKAD', 'caption': 'Dekad (10-Days ...</td>\n",
       "    </tr>\n",
       "    <tr>\n",
       "      <th>...</th>\n",
       "      <td>...</td>\n",
       "      <td>...</td>\n",
       "      <td>...</td>\n",
       "      <td>...</td>\n",
       "      <td>...</td>\n",
       "      <td>...</td>\n",
       "      <td>...</td>\n",
       "      <td>...</td>\n",
       "      <td>...</td>\n",
       "      <td>...</td>\n",
       "      <td>...</td>\n",
       "      <td>...</td>\n",
       "      <td>...</td>\n",
       "    </tr>\n",
       "    <tr>\n",
       "      <th>193</th>\n",
       "      <td>L2_BAS_PHE_S</td>\n",
       "      <td>Phenology (Seasonal, clipped by basin)</td>\n",
       "      <td>This is a system dataset, used to let the down...</td>\n",
       "      <td>NaN</td>\n",
       "      <td>NaN</td>\n",
       "      <td>WAPOR_2</td>\n",
       "      <td>RASTER</td>\n",
       "      <td>4151</td>\n",
       "      <td>{'pixelTimeSeries': False, 'areaStatsTimeSerie...</td>\n",
       "      <td>True</td>\n",
       "      <td>[{'rel': 'self', 'href': 'https://io.apps.fao....</td>\n",
       "      <td>{'code': 'PHE', 'caption': 'Phenology', 'descr...</td>\n",
       "      <td>[{'code': 'YEAR', 'caption': 'Year', 'descript...</td>\n",
       "    </tr>\n",
       "    <tr>\n",
       "      <th>194</th>\n",
       "      <td>L2_BAS_QUAL_NDVI_D</td>\n",
       "      <td>Quality of Normalized Difference Vegetation In...</td>\n",
       "      <td>This is a system dataset, used to let the down...</td>\n",
       "      <td>NaN</td>\n",
       "      <td>NaN</td>\n",
       "      <td>WAPOR_2</td>\n",
       "      <td>RASTER</td>\n",
       "      <td>4161</td>\n",
       "      <td>{'pixelTimeSeries': False, 'areaStatsTimeSerie...</td>\n",
       "      <td>True</td>\n",
       "      <td>[{'rel': 'self', 'href': 'https://io.apps.fao....</td>\n",
       "      <td>{'code': 'N_DAYS', 'caption': 'Number of Days'...</td>\n",
       "      <td>[{'code': 'DEKAD', 'caption': 'Dekad (10-Days ...</td>\n",
       "    </tr>\n",
       "    <tr>\n",
       "      <th>195</th>\n",
       "      <td>L2_CTY_QUAL_NDVI_D</td>\n",
       "      <td>Quality of Normalized Difference Vegetation In...</td>\n",
       "      <td>This is a system dataset, used to let the down...</td>\n",
       "      <td>NaN</td>\n",
       "      <td>NaN</td>\n",
       "      <td>WAPOR_2</td>\n",
       "      <td>RASTER</td>\n",
       "      <td>4162</td>\n",
       "      <td>{'pixelTimeSeries': False, 'areaStatsTimeSerie...</td>\n",
       "      <td>True</td>\n",
       "      <td>[{'rel': 'self', 'href': 'https://io.apps.fao....</td>\n",
       "      <td>{'code': 'N_DAYS', 'caption': 'Number of Days'...</td>\n",
       "      <td>[{'code': 'DEKAD', 'caption': 'Dekad (10-Days ...</td>\n",
       "    </tr>\n",
       "    <tr>\n",
       "      <th>196</th>\n",
       "      <td>L2_BAS_QUAL_LST_D</td>\n",
       "      <td>Quality Land Surface Temperature (Dekadal, cli...</td>\n",
       "      <td>This is a system dataset, used to let the down...</td>\n",
       "      <td>NaN</td>\n",
       "      <td>NaN</td>\n",
       "      <td>WAPOR_2</td>\n",
       "      <td>RASTER</td>\n",
       "      <td>4171</td>\n",
       "      <td>{'pixelTimeSeries': False, 'areaStatsTimeSerie...</td>\n",
       "      <td>True</td>\n",
       "      <td>[{'rel': 'self', 'href': 'https://io.apps.fao....</td>\n",
       "      <td>{'code': 'N_DAYS', 'caption': 'Number of Days'...</td>\n",
       "      <td>[{'code': 'DEKAD', 'caption': 'Dekad (10-Days ...</td>\n",
       "    </tr>\n",
       "    <tr>\n",
       "      <th>197</th>\n",
       "      <td>L2_CTY_QUAL_LST_D</td>\n",
       "      <td>Quality Land Surface Temperature (Dekadal, cli...</td>\n",
       "      <td>This is a system dataset, used to let the down...</td>\n",
       "      <td>NaN</td>\n",
       "      <td>NaN</td>\n",
       "      <td>WAPOR_2</td>\n",
       "      <td>RASTER</td>\n",
       "      <td>4172</td>\n",
       "      <td>{'pixelTimeSeries': False, 'areaStatsTimeSerie...</td>\n",
       "      <td>True</td>\n",
       "      <td>[{'rel': 'self', 'href': 'https://io.apps.fao....</td>\n",
       "      <td>{'code': 'N_DAYS', 'caption': 'Number of Days'...</td>\n",
       "      <td>[{'code': 'DEKAD', 'caption': 'Dekad (10-Days ...</td>\n",
       "    </tr>\n",
       "  </tbody>\n",
       "</table>\n",
       "<p>198 rows × 13 columns</p>\n",
       "</div>"
      ],
      "text/plain": [
       "                   code                                            caption  \\\n",
       "0             L1_GBWP_A                   Gross Biomass Water Productivity   \n",
       "1             L1_NBWP_A                     Net Biomass Water Productivity   \n",
       "2             L1_AETI_A  Actual EvapoTranspiration and Interception (An...   \n",
       "3             L1_AETI_M  Actual EvapoTranspiration and Interception (Mo...   \n",
       "4             L1_AETI_D  Actual EvapoTranspiration and Interception (De...   \n",
       "..                  ...                                                ...   \n",
       "193        L2_BAS_PHE_S             Phenology (Seasonal, clipped by basin)   \n",
       "194  L2_BAS_QUAL_NDVI_D  Quality of Normalized Difference Vegetation In...   \n",
       "195  L2_CTY_QUAL_NDVI_D  Quality of Normalized Difference Vegetation In...   \n",
       "196   L2_BAS_QUAL_LST_D  Quality Land Surface Temperature (Dekadal, cli...   \n",
       "197   L2_CTY_QUAL_LST_D  Quality Land Surface Temperature (Dekadal, cli...   \n",
       "\n",
       "                                           description  \\\n",
       "0    The annual Gross Biomass Water Productivity ex...   \n",
       "1    The annual Net Biomass Water Productivity expr...   \n",
       "2    The actual EvapoTranspiration and Interception...   \n",
       "3    The actual EvapoTranspiration and Interception...   \n",
       "4    The actual EvapoTranspiration and Interception...   \n",
       "..                                                 ...   \n",
       "193  This is a system dataset, used to let the down...   \n",
       "194  This is a system dataset, used to let the down...   \n",
       "195  This is a system dataset, used to let the down...   \n",
       "196  This is a system dataset, used to let the down...   \n",
       "197  This is a system dataset, used to let the down...   \n",
       "\n",
       "                                        additionalInfo  \\\n",
       "0    {'format': 'Raster Dataset', 'unit': 'kg/m³ is...   \n",
       "1    {'format': 'Raster Dataset', 'unit': 'kg/m³ is...   \n",
       "2    {'format': 'Raster Dataset', 'unit': 'mm', 'da...   \n",
       "3    {'format': 'Raster Dataset', 'unit': 'mm', 'da...   \n",
       "4    {'format': 'Raster Dataset', 'unit': 'mm', 'da...   \n",
       "..                                                 ...   \n",
       "193                                                NaN   \n",
       "194                                                NaN   \n",
       "195                                                NaN   \n",
       "196                                                NaN   \n",
       "197                                                NaN   \n",
       "\n",
       "                                                  tags workspaceCode dataType  \\\n",
       "0    [{'name': 'L1', 'index': 1, 'context': 'LEVELS...       WAPOR_2   RASTER   \n",
       "1    [{'name': 'L1', 'index': 2, 'context': 'LEVELS...       WAPOR_2   RASTER   \n",
       "2    [{'name': 'L1', 'index': 3, 'context': 'LEVELS...       WAPOR_2   RASTER   \n",
       "3    [{'name': 'L1', 'index': 4, 'context': 'LEVELS...       WAPOR_2   RASTER   \n",
       "4    [{'name': 'L1', 'index': 5, 'context': 'LEVELS...       WAPOR_2   RASTER   \n",
       "..                                                 ...           ...      ...   \n",
       "193                                                NaN       WAPOR_2   RASTER   \n",
       "194                                                NaN       WAPOR_2   RASTER   \n",
       "195                                                NaN       WAPOR_2   RASTER   \n",
       "196                                                NaN       WAPOR_2   RASTER   \n",
       "197                                                NaN       WAPOR_2   RASTER   \n",
       "\n",
       "     index                                          operation  hidden  \\\n",
       "0      101  {'pixelTimeSeries': True, 'areaStatsTimeSeries...   False   \n",
       "1      102  {'pixelTimeSeries': True, 'areaStatsTimeSeries...   False   \n",
       "2      103  {'pixelTimeSeries': True, 'areaStatsTimeSeries...   False   \n",
       "3      104  {'pixelTimeSeries': True, 'areaStatsTimeSeries...   False   \n",
       "4      105  {'pixelTimeSeries': True, 'areaStatsTimeSeries...   False   \n",
       "..     ...                                                ...     ...   \n",
       "193   4151  {'pixelTimeSeries': False, 'areaStatsTimeSerie...    True   \n",
       "194   4161  {'pixelTimeSeries': False, 'areaStatsTimeSerie...    True   \n",
       "195   4162  {'pixelTimeSeries': False, 'areaStatsTimeSerie...    True   \n",
       "196   4171  {'pixelTimeSeries': False, 'areaStatsTimeSerie...    True   \n",
       "197   4172  {'pixelTimeSeries': False, 'areaStatsTimeSerie...    True   \n",
       "\n",
       "                                                 links  \\\n",
       "0    [{'rel': 'self', 'href': 'https://io.apps.fao....   \n",
       "1    [{'rel': 'self', 'href': 'https://io.apps.fao....   \n",
       "2    [{'rel': 'self', 'href': 'https://io.apps.fao....   \n",
       "3    [{'rel': 'self', 'href': 'https://io.apps.fao....   \n",
       "4    [{'rel': 'self', 'href': 'https://io.apps.fao....   \n",
       "..                                                 ...   \n",
       "193  [{'rel': 'self', 'href': 'https://io.apps.fao....   \n",
       "194  [{'rel': 'self', 'href': 'https://io.apps.fao....   \n",
       "195  [{'rel': 'self', 'href': 'https://io.apps.fao....   \n",
       "196  [{'rel': 'self', 'href': 'https://io.apps.fao....   \n",
       "197  [{'rel': 'self', 'href': 'https://io.apps.fao....   \n",
       "\n",
       "                                               measure  \\\n",
       "0    {'code': 'WPR', 'caption': 'Water Productivity...   \n",
       "1    {'code': 'WPR', 'caption': 'Water Productivity...   \n",
       "2    {'code': 'WATER_MM', 'caption': 'Amount of Wat...   \n",
       "3    {'code': 'WATER_MM', 'caption': 'Amount of Wat...   \n",
       "4    {'code': 'WATER_MM', 'caption': 'Amount of Wat...   \n",
       "..                                                 ...   \n",
       "193  {'code': 'PHE', 'caption': 'Phenology', 'descr...   \n",
       "194  {'code': 'N_DAYS', 'caption': 'Number of Days'...   \n",
       "195  {'code': 'N_DAYS', 'caption': 'Number of Days'...   \n",
       "196  {'code': 'N_DAYS', 'caption': 'Number of Days'...   \n",
       "197  {'code': 'N_DAYS', 'caption': 'Number of Days'...   \n",
       "\n",
       "                                             dimension  \n",
       "0    [{'code': 'YEAR', 'caption': 'Year', 'descript...  \n",
       "1    [{'code': 'YEAR', 'caption': 'Year', 'descript...  \n",
       "2    [{'code': 'YEAR', 'caption': 'Year', 'descript...  \n",
       "3    [{'code': 'MONTH', 'caption': 'Month', 'worksp...  \n",
       "4    [{'code': 'DEKAD', 'caption': 'Dekad (10-Days ...  \n",
       "..                                                 ...  \n",
       "193  [{'code': 'YEAR', 'caption': 'Year', 'descript...  \n",
       "194  [{'code': 'DEKAD', 'caption': 'Dekad (10-Days ...  \n",
       "195  [{'code': 'DEKAD', 'caption': 'Dekad (10-Days ...  \n",
       "196  [{'code': 'DEKAD', 'caption': 'Dekad (10-Days ...  \n",
       "197  [{'code': 'DEKAD', 'caption': 'Dekad (10-Days ...  \n",
       "\n",
       "[198 rows x 13 columns]"
      ]
     },
     "execution_count": 1,
     "metadata": {},
     "output_type": "execute_result"
    }
   ],
   "source": [
    "import os\n",
    "import glob\n",
    "import sys\n",
    "import shapefile             \n",
    "import matplotlib.pyplot as plt \n",
    "\n",
    "folder=r\"..\\..\\modules\"\n",
    "sys.path.append(folder) #ajouter un dossier avec des modules locaux aux chemins du système\n",
    "import WaPOR #importer les modules locaux de 'WaPOR'\n",
    "WaPOR.API.getCatalog()"
   ]
  },
  {
   "cell_type": "markdown",
   "metadata": {},
   "source": [
    "## Dataset code\n",
    "\n",
    "Le module **WaPOR** contient les functions *download_dekadal*, *download_monthly*, and *download_yearly* qui téléchargent par lots les données WaPOR pour une résolution temporelle décadaire, mensuelle et annuelle. Pour séparer la couche de données à télécharger, ces fonctions nécessitent le code des données, la coordonnée de la boîte de délimentation, le niveau de données et la date de début et de fin de la période. Le code pour chaque ensemble de données est disponible dans le tableau ci-dessous:\n",
    "\n",
    "| code        | Name          | \n",
    "| :---------: |:-------------:| \n",
    "| LCC | Classification de couverture du sol     | \n",
    "| PCP      | Précipitation      | \n",
    "| RET      | Evapotranspiration de référence   | \n",
    "| NPP      | Production primaire nette |\n",
    "| AETI      | Evapotranspiration réelle et Interception |   \n",
    "| E | Evaporation      |  \n",
    "| I | Interception      | \n",
    "| T | Transpiration      | \n",
    "| PHE | Phénologie      | \n",
    "| GBWP | Productivité brute de l’eau de la biomasse     | \n",
    "\n",
    "Utilisez le code de données sélectionné au lieu de **RET** pour la valeur du paramètre **data** dans les cellules de code ci-dessous."
   ]
  },
  {
   "cell_type": "markdown",
   "metadata": {},
   "source": [
    "## Exemple de fonctions du module WaPOR\n",
    "\n",
    "Les exemples de cellules de code ci-dessous montrent comment le module WaPOR peut être utilisé pour télécharger par lots les données WaPOR: évapotranspiration de référence décadaire, mensuelle et annuelle d'une étendue. L'étendue est définie par la délimitation du fichier de formes du bassin Awash. Les raster seront collectés et prétraités à l'unité correcte mm / période (mm / décade, mm / mois ou mm / an respectivement), et sauvegardées dans le [output folder](data)\n"
   ]
  },
  {
   "cell_type": "markdown",
   "metadata": {},
   "source": [
    "### Définir l'étendue du téléchargement et le dossier de sortie\n",
    "\n",
    "Changer les valeurs xmin, ymin, xmax, ymax à l'étendue du téléchargement.\n",
    "Si nécessaire changer le chemin d´accès *output_dir* pour l´adresse du dossier où vous voulez sauvegarder les données."
   ]
  },
  {
   "cell_type": "code",
   "execution_count": 2,
   "metadata": {},
   "outputs": [],
   "source": [
    "#définir l'étendue à télécharger à partir d'un fichier de formes:\n",
    "shape_fh=r\".\\data\\Awash_shapefile.shp\"\n",
    "shape=shapefile.Reader(shape_fh)\n",
    "xmin,ymin,xmax,ymax=shape.bbox\n",
    "\n",
    "# définir l'étendue à télécharger par coordonnées:\n",
    "# xmin,ymin,xmax,ymax=(32.65692516077674,-25.16412729789142,32.90420244933813,-25.01450956754679)\n",
    "\n",
    "output_dir=r'.\\data' # dossier pour enregistrer les données"
   ]
  },
  {
   "cell_type": "markdown",
   "metadata": {},
   "source": [
    "### Télécharger les données journalières\n",
    "\n",
    "Notez que les données journalières ne sont disponibles que pour l'évapotranspiration et les précipitations de référence de niveau 1"
   ]
  },
  {
   "cell_type": "code",
   "execution_count": 3,
   "metadata": {},
   "outputs": [
    {
     "name": "stdout",
     "output_type": "stream",
     "text": [
      "\n",
      "Download WaPOR Level 1 dekadal RET data for the period 2009-01-01 till 2009-01-31\n",
      "Progress: |██████████████████████████████████████████████████| 100.0% Complete\n"
     ]
    },
    {
     "data": {
      "text/plain": [
       "'.\\\\data\\\\WAPOR.v2_daily_L1_RET_E'"
      ]
     },
     "execution_count": 3,
     "metadata": {},
     "output_type": "execute_result"
    }
   ],
   "source": [
    "WaPOR.download_daily(output_dir, \n",
    "                       data='RET',\n",
    "                       Startdate='2009-01-01', \n",
    "                       Enddate='2009-01-31',\n",
    "                       latlim=[ymin-0.5, ymax+0.5], \n",
    "                       lonlim=[xmin-0.5, xmax+0.5],\n",
    "                       level=1,                    \n",
    "                       )"
   ]
  },
  {
   "cell_type": "markdown",
   "metadata": {},
   "source": [
    "### Télécharger les données décadaires\n",
    "\n",
    "**Notez que:** l'unité de l'ensemble de données de la décade sera convertie en quantité/décade au lieu de la quantité journalière moyenne/jour"
   ]
  },
  {
   "cell_type": "code",
   "execution_count": 4,
   "metadata": {},
   "outputs": [
    {
     "name": "stdout",
     "output_type": "stream",
     "text": [
      "\n",
      "Download WaPOR Level 1 dekadal RET data for the period 2009-01-01 till 2009-12-31\n",
      "Progress: |██████████████████████████████████████████████████| 100.0% Complete\n"
     ]
    },
    {
     "data": {
      "text/plain": [
       "'.\\\\data\\\\WAPOR.v2_dekadal_L1_RET_D'"
      ]
     },
     "execution_count": 4,
     "metadata": {},
     "output_type": "execute_result"
    }
   ],
   "source": [
    "WaPOR.download_dekadal(output_dir, \n",
    "                       data='RET',\n",
    "                       Startdate='2009-01-01', \n",
    "                       Enddate='2009-12-31',\n",
    "                       latlim=[ymin-0.5, ymax+0.5], \n",
    "                       lonlim=[xmin-0.5, xmax+0.5],\n",
    "                       level=1, \n",
    "                       )"
   ]
  },
  {
   "cell_type": "markdown",
   "metadata": {},
   "source": [
    "### Télécharger les données mensuelles"
   ]
  },
  {
   "cell_type": "code",
   "execution_count": 5,
   "metadata": {},
   "outputs": [
    {
     "name": "stdout",
     "output_type": "stream",
     "text": [
      "\n",
      "Download WaPOR Level 1 monthly RET data for the period 2009-01-01 till 2009-12-31\n",
      "Progress: |██████████████████████████████████████████████████| 100.0% Complete\n"
     ]
    },
    {
     "data": {
      "text/plain": [
       "'.\\\\data\\\\WAPOR.v2_monthly_L1_RET_M'"
      ]
     },
     "execution_count": 5,
     "metadata": {},
     "output_type": "execute_result"
    }
   ],
   "source": [
    "WaPOR.download_monthly(output_dir, \n",
    "                       data='RET',\n",
    "                       Startdate='2009-01-01', \n",
    "                       Enddate='2009-12-31', \n",
    "                       latlim=[ymin-0.5, ymax+0.5], \n",
    "                       lonlim=[xmin-0.5, xmax+0.5],\n",
    "                       level=1, \n",
    "                       )"
   ]
  },
  {
   "cell_type": "markdown",
   "metadata": {},
   "source": [
    "### Télécharger les données annuelles"
   ]
  },
  {
   "cell_type": "code",
   "execution_count": 6,
   "metadata": {},
   "outputs": [
    {
     "name": "stdout",
     "output_type": "stream",
     "text": [
      "\n",
      "Download WaPOR Level 1 yearly RET data for the period 2009-01-01 till 2009-12-31\n",
      "Progress: |██████████████████████████████████████████████████| 100.0% Complete\n"
     ]
    },
    {
     "data": {
      "text/plain": [
       "'.\\\\data\\\\WAPOR.v2_yearly_L1_RET_A'"
      ]
     },
     "execution_count": 6,
     "metadata": {},
     "output_type": "execute_result"
    }
   ],
   "source": [
    "WaPOR.download_yearly(output_dir, \n",
    "                       data='RET',\n",
    "                       Startdate='2009-01-01', \n",
    "                       Enddate='2009-12-31',\n",
    "                       latlim=[ymin-0.5, ymax+0.5], \n",
    "                       lonlim=[xmin-0.5, xmax+0.5],\n",
    "                       level=1, \n",
    "                       )"
   ]
  },
  {
   "cell_type": "markdown",
   "metadata": {},
   "source": [
    "### Télécharger les données saisonnières\n",
    "\n",
    "**Notez que**: les données saisonnières ne sont disponibles que pour certaines couches (par exemple, la productivité brute de l'eau de la biomasse, la phénologie)"
   ]
  },
  {
   "cell_type": "code",
   "execution_count": 7,
   "metadata": {},
   "outputs": [
    {
     "name": "stdout",
     "output_type": "stream",
     "text": [
      "\n",
      "Download WaPOR Level 2 seasonal GBWP data for the period 2009-01-01 till 2010-12-31\n",
      "Progress: |██████████████████████████████████████████████████| 100.0% Complete\n",
      "\n",
      "Download WaPOR Level 2 seasonal PHE data for the period 2009-01-01 till 2010-12-31\n",
      "Progress: |██████████████████████████████████████████████████| 100.0% Complete\n"
     ]
    },
    {
     "data": {
      "text/plain": [
       "'.\\\\data\\\\WAPOR.v2_seasonal_L2_PHE_S'"
      ]
     },
     "execution_count": 7,
     "metadata": {},
     "output_type": "execute_result"
    }
   ],
   "source": [
    "WaPOR.download_seasonal(output_dir,\n",
    "                       data='GBWP',\n",
    "                       Startdate='2009-01-01',\n",
    "                       Enddate='2010-12-31',\n",
    "                       latlim=[ymin-0.5, ymax+0.5],\n",
    "                       lonlim=[xmin-0.5, xmax+0.5],\n",
    "                       level=2,\n",
    "                       )\n",
    "WaPOR.download_seasonal(output_dir,\n",
    "                       data='PHE',\n",
    "                       Startdate='2009-01-01',\n",
    "                       Enddate='2010-12-31',\n",
    "                       latlim=[ymin-0.5, ymax+0.5],\n",
    "                       lonlim=[xmin-0.5, xmax+0.5],\n",
    "                       level=2,\n",
    "                       )"
   ]
  },
  {
   "cell_type": "markdown",
   "metadata": {},
   "source": [
    "# Exercice\n",
    "\n",
    "Télécharger les données mensuelles de niveau 1 des précipitations, de l'évapotranspiration et de l'interception réelles et de la classification annuelle de la couverture terrestre de 2009 à 2010 pour la zone délimitée par le fichier de formes \".\\data\\Awash_shapefile.shp\"\n",
    "\n",
    "Utilisez les fonctions du module **WaPOR** en suivant les exemples donnés ci-dessus."
   ]
  },
  {
   "cell_type": "code",
   "execution_count": 8,
   "metadata": {},
   "outputs": [
    {
     "data": {
      "text/plain": [
       "'\\nEcrivez votre code ici\\n'"
      ]
     },
     "execution_count": 8,
     "metadata": {},
     "output_type": "execute_result"
    }
   ],
   "source": [
    "'''\n",
    "Ecrivez votre code ici\n",
    "'''"
   ]
  }
 ],
 "metadata": {
  "kernelspec": {
   "display_name": "Python 3",
   "language": "python",
   "name": "python3"
  },
  "language_info": {
   "codemirror_mode": {
    "name": "ipython",
    "version": 3
   },
   "file_extension": ".py",
   "mimetype": "text/x-python",
   "name": "python",
   "nbconvert_exporter": "python",
   "pygments_lexer": "ipython3",
   "version": "3.7.9"
  }
 },
 "nbformat": 4,
 "nbformat_minor": 2
}
