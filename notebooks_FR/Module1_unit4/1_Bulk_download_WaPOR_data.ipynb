{
 "cells": [
  {
   "cell_type": "markdown",
   "metadata": {},
   "source": [
    "# Télécharger en block les données de WaPOR\n",
    "\n",
    "Dans ce notebook, nous utiliserons le module Python local pour automatiser les étapes de lecture des métadonnées de l'ensemble de données, demander l'URL de téléchargement, télécharger l'ensemble de données raster, prétraiter l'ensemble de données raster en utilisant les informations des métadonnées (telles que le facteur de conversion, l'unité). **Les données téléchargées par ce script seront automatiquement corrigées par le facteur de conversion**.\n",
    "\n",
    "Exécutez la cellule de code ci-dessous pour importer les packages et les modules nécessaires. Il vous sera demandé de fournir la clé API WaPOR (voir [Start here](0_Start_here.ipynb) la page Démarrer ici pour savoir comment obtenir la clé API). Le module **WaPOR** module gardera votre clé en mémoire et l'enregistrera dans le dossier du module. Si vous souhaitez utiliser une nouvelle clé API, vous devez supprimer ce fichier \n",
    "**'modules\\WaPOR\\wapor_api_token.pickle'**"
   ]
  },
  {
   "cell_type": "code",
   "execution_count": 1,
   "metadata": {},
   "outputs": [],
   "source": [
    "import os\n",
    "import glob\n",
    "import sys\n",
    "import shapefile             \n",
    "import matplotlib.pyplot as plt \n",
    "\n",
    "folder=r\"..\\..\\modules\"\n",
    "sys.path.append(folder) #ajouter un dossier avec des modules locaux aux chemins du système\n",
    "import WaPOR #importer les modules locaux de 'WaPOR'"
   ]
  },
  {
   "cell_type": "markdown",
   "metadata": {},
   "source": [
    "## Dataset code\n",
    "\n",
    "Le module **WaPOR** contient les functions *download_dekadal*, *download_monthly*, and *download_yearly* qui téléchargent par lots les données WaPOR pour une résolution temporelle décadaire, mensuelle et annuelle. Pour séparer la couche de données à télécharger, ces fonctions nécessitent le code des données, la coordonnée de la boîte de délimentation, le niveau de données et la date de début et de fin de la période. Le code pour chaque ensemble de données est disponible dans le tableau ci-dessous:\n",
    "\n",
    "| code        | Name          | \n",
    "| :---------: |:-------------:| \n",
    "| LCC | Classification de couverture du sol     | \n",
    "| PCP      | Précipitation      | \n",
    "| RET      | Evapotranspiration de référence   | \n",
    "| NPP      | Production primaire nette |\n",
    "| AETI      | Evapotranspiration réelle et Interception |   \n",
    "| E | Evaporation      |  \n",
    "| I | Interception      | \n",
    "| T | Transpiration      | \n",
    "| PHE | Phénologie      | \n",
    "| GBWP | Productivité brute de l’eau de la biomasse     | \n",
    "\n",
    "Utilisez le code de données sélectionné au lieu de **RET** pour la valeur du paramètre **data** dans les cellules de code ci-dessous."
   ]
  },
  {
   "cell_type": "markdown",
   "metadata": {},
   "source": [
    "## Exemple de fonctions du module WaPOR\n",
    "\n",
    "Les exemples de cellules de code ci-dessous montrent comment le module WaPOR peut être utilisé pour télécharger par lots les données WaPOR: évapotranspiration de référence décadaire, mensuelle et annuelle d'une étendue. L'étendue est définie par la délimitation du fichier de formes du bassin Awash. Les raster seront collectés et prétraités à l'unité correcte mm / période (mm / décade, mm / mois ou mm / an respectivement), et sauvegardées dans le [output folder](data)\n"
   ]
  },
  {
   "cell_type": "markdown",
   "metadata": {},
   "source": [
    "### Définir l'étendue du téléchargement et le dossier de sortie\n",
    "\n",
    "Changer les valeurs xmin, ymin, xmax, ymax à l'étendue du téléchargement.\n",
    "Si nécessaire changer le chemin d´accès *output_dir* pour l´adresse du dossier où vous voulez sauvegarder les données."
   ]
  },
  {
   "cell_type": "code",
   "execution_count": 2,
   "metadata": {},
   "outputs": [],
   "source": [
    "#définir l'étendue à télécharger à partir d'un fichier de formes:\n",
    "shape_fh=r\".\\data\\Awash_shapefile.shp\"\n",
    "shape=shapefile.Reader(shape_fh)\n",
    "xmin,ymin,xmax,ymax=shape.bbox\n",
    "\n",
    "# définir l'étendue à télécharger par coordonnées:\n",
    "# xmin,ymin,xmax,ymax=(32.65692516077674,-25.16412729789142,32.90420244933813,-25.01450956754679)\n",
    "\n",
    "output_dir=r'.\\data' # dossier pour enregistrer les données"
   ]
  },
  {
   "cell_type": "markdown",
   "metadata": {},
   "source": [
    "### Télécharger les données journalières\n",
    "\n",
    "Notez que les données journalières ne sont disponibles que pour l'évapotranspiration et les précipitations de référence de niveau 1"
   ]
  },
  {
   "cell_type": "code",
   "execution_count": 3,
   "metadata": {},
   "outputs": [
    {
     "name": "stdout",
     "output_type": "stream",
     "text": [
      "\n",
      "Download WaPOR Level 1 dekadal RET data for the period 2009-01-01 till 2009-01-31\n",
      "Progress: |██████████████████████████████████████████████████| 100.0% Complete\n"
     ]
    },
    {
     "data": {
      "text/plain": [
       "'.\\\\data\\\\WAPOR.v2_daily_L1_RET_E'"
      ]
     },
     "execution_count": 3,
     "metadata": {},
     "output_type": "execute_result"
    }
   ],
   "source": [
    "WaPOR.download_daily(output_dir, \n",
    "                       data='RET',\n",
    "                       Startdate='2009-01-01', \n",
    "                       Enddate='2009-01-31',\n",
    "                       latlim=[ymin-0.5, ymax+0.5], \n",
    "                       lonlim=[xmin-0.5, xmax+0.5],\n",
    "                       level=1,                    \n",
    "                       )"
   ]
  },
  {
   "cell_type": "markdown",
   "metadata": {},
   "source": [
    "### Télécharger les données décadaires\n",
    "\n",
    "**Notez que:** l'unité de l'ensemble de données de la décade sera convertie en quantité/décade au lieu de la quantité journalière moyenne/jour"
   ]
  },
  {
   "cell_type": "code",
   "execution_count": 4,
   "metadata": {},
   "outputs": [
    {
     "name": "stdout",
     "output_type": "stream",
     "text": [
      "\n",
      "Download WaPOR Level 1 dekadal RET data for the period 2009-01-01 till 2009-12-31\n",
      "Progress: |██████████████████████████████████████████████████| 100.0% Complete\n"
     ]
    },
    {
     "data": {
      "text/plain": [
       "'.\\\\data\\\\WAPOR.v2_dekadal_L1_RET_D'"
      ]
     },
     "execution_count": 4,
     "metadata": {},
     "output_type": "execute_result"
    }
   ],
   "source": [
    "WaPOR.download_dekadal(output_dir, \n",
    "                       data='RET',\n",
    "                       Startdate='2009-01-01', \n",
    "                       Enddate='2009-12-31',\n",
    "                       latlim=[ymin-0.5, ymax+0.5], \n",
    "                       lonlim=[xmin-0.5, xmax+0.5],\n",
    "                       level=1, \n",
    "                       )"
   ]
  },
  {
   "cell_type": "markdown",
   "metadata": {},
   "source": [
    "### Télécharger les données mensuelles"
   ]
  },
  {
   "cell_type": "code",
   "execution_count": 5,
   "metadata": {},
   "outputs": [
    {
     "name": "stdout",
     "output_type": "stream",
     "text": [
      "\n",
      "Download WaPOR Level 1 monthly RET data for the period 2009-01-01 till 2009-12-31\n",
      "Progress: |██████████████████████████████████████████████████| 100.0% Complete\n"
     ]
    },
    {
     "data": {
      "text/plain": [
       "'.\\\\data\\\\WAPOR.v2_monthly_L1_RET_M'"
      ]
     },
     "execution_count": 5,
     "metadata": {},
     "output_type": "execute_result"
    }
   ],
   "source": [
    "WaPOR.download_monthly(output_dir, \n",
    "                       data='RET',\n",
    "                       Startdate='2009-01-01', \n",
    "                       Enddate='2009-12-31', \n",
    "                       latlim=[ymin-0.5, ymax+0.5], \n",
    "                       lonlim=[xmin-0.5, xmax+0.5],\n",
    "                       level=1, \n",
    "                       )"
   ]
  },
  {
   "cell_type": "markdown",
   "metadata": {},
   "source": [
    "### Télécharger les données annuelles"
   ]
  },
  {
   "cell_type": "code",
   "execution_count": 6,
   "metadata": {},
   "outputs": [
    {
     "name": "stdout",
     "output_type": "stream",
     "text": [
      "\n",
      "Download WaPOR Level 1 yearly RET data for the period 2009-01-01 till 2009-12-31\n",
      "Progress: |██████████████████████████████████████████████████| 100.0% Complete\n"
     ]
    },
    {
     "data": {
      "text/plain": [
       "'.\\\\data\\\\WAPOR.v2_yearly_L1_RET_A'"
      ]
     },
     "execution_count": 6,
     "metadata": {},
     "output_type": "execute_result"
    }
   ],
   "source": [
    "WaPOR.download_yearly(output_dir, \n",
    "                       data='RET',\n",
    "                       Startdate='2009-01-01', \n",
    "                       Enddate='2009-12-31',\n",
    "                       latlim=[ymin-0.5, ymax+0.5], \n",
    "                       lonlim=[xmin-0.5, xmax+0.5],\n",
    "                       level=1, \n",
    "                       )"
   ]
  },
  {
   "cell_type": "markdown",
   "metadata": {},
   "source": [
    "### Télécharger les données saisonnières\n",
    "\n",
    "**Notez que**: les données saisonnières ne sont disponibles que pour certaines couches (par exemple, la productivité brute de l'eau de la biomasse, la phénologie)"
   ]
  },
  {
   "cell_type": "code",
   "execution_count": 7,
   "metadata": {},
   "outputs": [
    {
     "name": "stdout",
     "output_type": "stream",
     "text": [
      "\n",
      "Download WaPOR Level 2 seasonal GBWP data for the period 2009-01-01 till 2010-12-31\n",
      "Progress: |██████████████████████████████████████████████████| 100.0% Complete\n",
      "\n",
      "Download WaPOR Level 2 seasonal PHE data for the period 2009-01-01 till 2010-12-31\n",
      "Progress: |██████████████████████████████████████████████████| 100.0% Complete\n"
     ]
    },
    {
     "data": {
      "text/plain": [
       "'.\\\\data\\\\WAPOR.v2_seasonal_L2_PHE_S'"
      ]
     },
     "execution_count": 7,
     "metadata": {},
     "output_type": "execute_result"
    }
   ],
   "source": [
    "WaPOR.download_seasonal(output_dir,\n",
    "                       data='GBWP',\n",
    "                       Startdate='2009-01-01',\n",
    "                       Enddate='2010-12-31',\n",
    "                       latlim=[ymin-0.5, ymax+0.5],\n",
    "                       lonlim=[xmin-0.5, xmax+0.5],\n",
    "                       level=2,\n",
    "                       )\n",
    "WaPOR.download_seasonal(output_dir,\n",
    "                       data='PHE',\n",
    "                       Startdate='2009-01-01',\n",
    "                       Enddate='2010-12-31',\n",
    "                       latlim=[ymin-0.5, ymax+0.5],\n",
    "                       lonlim=[xmin-0.5, xmax+0.5],\n",
    "                       level=2,\n",
    "                       )"
   ]
  },
  {
   "cell_type": "markdown",
   "metadata": {},
   "source": [
    "# Exercice\n",
    "\n",
    "Télécharger les données mensuelles de niveau 1 des précipitations, de l'évapotranspiration et de l'interception réelles et de la classification annuelle de la couverture terrestre de 2009 à 2010 pour la zone délimitée par le fichier de formes \".\\data\\Awash_shapefile.shp\"\n",
    "\n",
    "Utilisez les fonctions du module **WaPOR** en suivant les exemples donnés ci-dessus."
   ]
  },
  {
   "cell_type": "code",
   "execution_count": 8,
   "metadata": {},
   "outputs": [
    {
     "data": {
      "text/plain": [
       "'\\nEcrivez votre code ici\\n'"
      ]
     },
     "execution_count": 8,
     "metadata": {},
     "output_type": "execute_result"
    }
   ],
   "source": [
    "'''\n",
    "Ecrivez votre code ici\n",
    "'''"
   ]
  }
 ],
 "metadata": {
  "kernelspec": {
   "display_name": "Python 3",
   "language": "python",
   "name": "python3"
  },
  "language_info": {
   "codemirror_mode": {
    "name": "ipython",
    "version": 3
   },
   "file_extension": ".py",
   "mimetype": "text/x-python",
   "name": "python",
   "nbconvert_exporter": "python",
   "pygments_lexer": "ipython3",
   "version": "3.7.9"
  }
 },
 "nbformat": 4,
 "nbformat_minor": 2
}
