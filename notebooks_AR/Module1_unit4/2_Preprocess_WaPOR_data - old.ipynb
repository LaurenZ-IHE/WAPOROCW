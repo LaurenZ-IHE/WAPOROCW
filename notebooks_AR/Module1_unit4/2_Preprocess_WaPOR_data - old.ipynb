{
 "cells": [
  {
   "cell_type": "markdown",
   "metadata": {},
   "source": [
    "<div dir=\"rtl\">\n",
    "    \n",
    "# المعالجة المسبقة لبيانات WaPOR باستخدام بيثون\n",
    "\n",
    "</div>\n",
    "<div dir=\"rtl\">\n",
    "يحتوي هذا الدفتر على خطوات للمعالجة المسبقة لبيانات WaPOR\n",
    "</div>\n",
    "\n",
    "<div dir=\"rtl\">\n",
    "\n",
    "- [1. قراءة وكتابة البيانات النقطية](#1.-Read-and-write-raster-data)\n",
    "- [2. تجميع البيانات في فترة](#2.-Aggregate-data-in-a-period)\n",
    "- [3. التفاف البيانات النقطية](##3.-Warp-raster-data)\n",
    "- [4. عمل مقطع إلى ملف الشكل cutline](#4.-Clip-to-Shapefile-cutline)\n",
    "\n",
    "</div>\n",
    "\n",
    "<div dir=\"rtl\">\n",
    "في كل خطوة، ستجد أمثلة على أكواد وتمارين لتطبيق المثالفي كل خطوة، ستجد أمثلة على أكواد وتمارين لتطبيق المثال\n",
    "</div>\n",
    "<div dir=\"rtl\">\n",
    "أولاً، قم باستيراد مكتبات / حزم بحيث يمكن استخدام الوظائف من هذه المكتبات. \n",
    "</div>"
   ]
  },
  {
   "cell_type": "code",
   "execution_count": null,
   "metadata": {},
   "outputs": [],
   "source": [
    "import os\n",
    "import shapefile\n",
    "import glob\n",
    "import gdal\n",
    "import osgeo\n",
    "import osr\n",
    "import ogr\n",
    "import numpy as np\n",
    "from matplotlib import pyplot as plt\n",
    "import pandas as pd"
   ]
  },
  {
   "cell_type": "markdown",
   "metadata": {
    "slideshow": {
     "slide_type": "slide"
    }
   },
   "source": [
    "## 1. Read and write raster data\n",
    "<div dir=\"rtl\"> \n",
    "1.  قراءة وكتابة البيانات النقطية\n",
    "</div>\n",
    "<div dir=\"rtl\">\n",
    "    \n",
    "### مثال\n",
    "    \n",
    "</div>\n",
    "\n",
    "<div dir=\"rtl\">     \n",
    "لاقتصاص تعيين الخريطة النقطية إلى حد ما ، يلزم وجود ملف شكل أو إحداثيات المدى. على سبيل المثال ، تم إعداد ملف أشكالمن أجل العمل مع البيانات النقطية في Python ، سنحتاج إلى فتح مجموعة البيانات النقطية كمصفوفة عددية وإجراء العمليات الحسابية باستخدام هذه المصفوفة. تحتوي الحزمة * gdal * على وظائف للعمل مع مجموعة الخرائط النقطية التي يمكن استخدامها للقيام بهذه المهمة. فيما يلي خطوات الحصول على هذه المعلومات من ملف GeoTIFF. في هذا المثال ، سنستخدم مجموعات البيانات النقطية للنتح الفعلي والاعتراض (AETI) من المستوى 1 الشهري التي تم تنزيلها في تمرين [دفتر الملاحظات] السابق.\n",
    "</div>\n",
    "<br>\n",
    "<div dir='rtl'>\n",
    "أولاً ، لفتح ملف نقطي ، سنحتاج إلى المسار إلى هذا الملف. في خلية الكود أدناه ، تحصل الشفرة على قائمة الملفات النقطية (بتنسيق GeoTIFF) في مجلد إدخال ثم اطبع مسار الملف الأول. \n",
    "</div>\n",
    "\n",
    "[دفتر الملاحظات](1_Bulk_download_WaPOR_data.ipynb)"
   ]
  },
  {
   "cell_type": "code",
   "execution_count": null,
   "metadata": {
    "slideshow": {
     "slide_type": "slide"
    }
   },
   "outputs": [],
   "source": [
    "input_folder=r'.\\data\\WAPOR.v2_monthly_L1_AETI_M' #define input_folder\n",
    "input_fhs=sorted(glob.glob(input_folder+'\\*.tif')) #get list of tif files in the input_folder\n",
    "\n",
    "in_fh=input_fhs[0] #get the path of the first file\n",
    "print(in_fh)"
   ]
  },
  {
   "cell_type": "markdown",
   "metadata": {},
   "source": [
    "<div dir=\"rtl\">\n",
    "يعرض شكل shape.bbox إحداثيات المربع المنضم لملف الشكل وهي xmin (أدنى خط طول) و ymin (أدنى خط عرض) و xmax (أعلى خط طول) و ymax (أعلى خط عرض). سيمرر الكود أدناه هذه القيم الأربع إلى المتغيرات الأربعة ذات الصلة\n",
    "</div>"
   ]
  },
  {
   "cell_type": "code",
   "execution_count": null,
   "metadata": {
    "slideshow": {
     "slide_type": "slide"
    }
   },
   "outputs": [],
   "source": [
    "extent=shape.bbox\n",
    "xmin,ymin,xmax,ymax=extent[0],extent[1],extent[2],extent[3]\n",
    "xmin,ymin,xmax,ymax"
   ]
  },
  {
   "cell_type": "markdown",
   "metadata": {},
   "source": [
    "<div dir=\"rtl\">    \n",
    "بعد ذلك ، سوف نحصل على قائمة بالملف النقطي الذي نحتاج إلى اقتصاصه. للحصول على قائمة بجميع معالجات الملفات في مجلد ، يمكننا استخدام وحدة glob على النحو التالي. يحتوي متغير معالج الملفات على مسار إلى أي ملف .tif نقطي في مجلد الإدخال ، حيث يتم استبدال الحرف * باسم الملف. طول قائمة input_fhs هو عدد الملفات في مجلد الإدخال. إذا تم تنزيل بيانات L1_PCP_E بنجاح من دفتر الملاحظات السابق  التمرين 1 ، يجب أن يكون عدد الملفات 365 عند تشغيل خلية الرمز.     \n",
    "</div>\n",
    "\n",
    "[ دفتر الملاحظات السابق  التمرين 1](1_Download_WaPOR_using_hkvwaporpy.ipynb)"
   ]
  },
  {
   "cell_type": "code",
   "execution_count": null,
   "metadata": {},
   "outputs": [],
   "source": [
    "input_folder=r'.\\data\\L1_PCP_E'\n",
    "filehandler=os.path.join(input_folder,'*.tif')\n",
    "input_fhs=sorted(glob.glob(filehandler))\n",
    "print(filehandler)\n",
    "print('عدد الملفات: {0}'.format(len(input_fhs)))"
   ]
  },
  {
   "cell_type": "markdown",
   "metadata": {},
   "source": [
    "<div dir=\"rtl\">\n",
    "يمكن استخدام وظيفة gdal.Translate لاقتصاص ملف نقطي بسرعة إلى حد معين. يوجد أدناه مثال لاقتصاص ملف نقطي في قائمة معالجات البيانات النقطية التي تم الحصول عليها. أولاً ، يتم تعريف معالجات ملفات الإدخال والإخراج.\n",
    "ثم يتم إنشاء كائن translate_options باستخدام إحداثيات النافذة للقص. على سبيل المثال ، الكود أدناه حدد مسار الملف الأول في قائمة input_fhs.\n",
    "</div>"
   ]
  },
  {
   "cell_type": "code",
   "execution_count": null,
   "metadata": {},
   "outputs": [],
   "source": [
    "output_folder=r'.\\data\\L1_PCP_E_cropped'\n",
    "if not os.path.exists(output_folder): #تأكد من انشاء ملف المخرجات\n",
    "    os.makedirs(output_folder) #إنشاء ملف المخرجات\n",
    "in_fh=input_fhs[0] #احصل على مسار أول ملف في قائمة الادخال fhs\n",
    "print('in_fh: '+in_fh) #اطبع مسار ملف الادخال"
   ]
  },
  {
   "cell_type": "markdown",
   "metadata": {},
   "source": [
    "<div dir=\"rtl\">\n",
    "بعد ذلك يتم تحديد المسار لملف المخرجات من خلال استخدام ملف الإدخال ومسار ملف المخرجات    \n",
    "</div>"
   ]
  },
  {
   "cell_type": "code",
   "execution_count": null,
   "metadata": {},
   "outputs": [],
   "source": [
    "input_filename=os.path.split(in_fh)[-1] #احصل على اسم لملف الإدخال من خلال مسار الإدخال\n",
    "out_fh=os.path.join(output_folder,input_filename) #انشاء مسار للمخرجات ابتداء من اسم ملف المدخلات\n",
    "print(out_fh)"
   ]
  },
  {
   "cell_type": "markdown",
   "metadata": {},
   "source": [
    "<div dir=\"rtl\">\n",
    "يتم بعد ذلك استخدام الوظيفة gdal.Translate لاقتصاص الملف النقطي للإدخال وحفظه كملف الإخراج باستخدام نافذة إحداثيات المربع المحيط xmin ، ymax ، xmax ، ymin لملف الشكل من الخطوة السابقة. إذا انتهت وظيفة gdal.Translate بدون أخطاء ، فستحصل على كائن osgeo.gdal.Dataset (انظر أدناه) وسيتم إنشاء ملف نقطي جديد في مجلد الإخراج (data / L1_PCP_E_cropped)    \n",
    "</div>\n",
    "\n",
    "[مجلد الإخراج](data/L1_PCP_E_cropped)"
   ]
  },
  {
   "cell_type": "code",
   "execution_count": null,
   "metadata": {},
   "outputs": [],
   "source": [
    "translate_options=gdal.TranslateOptions(format='GTiff',\n",
    "                                        outputType=osgeo.gdalconst.GDT_Float32,\n",
    "                                        projWin=[xmin,ymax,xmax,ymin]\n",
    "                                       )\n",
    "gdal.Translate(out_fh,in_fh,\n",
    "               options=translate_options)"
   ]
  },
  {
   "cell_type": "markdown",
   "metadata": {},
   "source": [
    "<div dir=\"rtl\">\n",
    "\n",
    "### التمرين 1 \n",
    "    \n",
    "</div>\n",
    "\n",
    "<div dir=\"rtl\">\n",
    "الآن ، استنادًا إلى مثال الكود ، اكتب الكود الخاص بك لاقتصاص جميع البيانات النقطية L1_PCP_E التي تم تنزيلها (مدى القارة) إلى حد ملف شكل حوض Awash.    \n",
    "</div>\n",
    "\n",
    "<div dir=\"rtl\">\n",
    "ملحوظة:\n",
    "  يمكنك استخدام حلقة for-loop للتكرار فوق معالجات الملفات في input_fhs كما هو محدد في الخطوات السابقة واستخدام دالة gdal.Translate لاقتصاصها.   \n",
    "</div>\n",
    "\n",
    "\n",
    "**for** file **in** list_of_files:\n",
    "    \n",
    "    functions to crop file #وظائف لاقتصاص الملف  "
   ]
  },
  {
   "cell_type": "code",
   "execution_count": null,
   "metadata": {},
   "outputs": [],
   "source": [
    "for in_fh in input_fhs:\n",
    "    \"\"\"\n",
    "    اكتب الكود الخاص بك هنا\n",
    "    \"\"\"\n",
    "    "
   ]
  },
  {
   "cell_type": "markdown",
   "metadata": {},
   "source": [
    "## Step 2. Rescale using metadata\n",
    "\n",
    "<div dir=\"rtl\">\n",
    "الخطوة 2. إعادة القياس باستخدام البيانات الوصفية    \n",
    "</div>\n",
    "\n",
    "<div dir=\"rtl\">\n",
    "    \n",
    "### مثال\n",
    "    \n",
    "</div>\n",
    "\n",
    "<div dir=\"rtl\">\n",
    "تحتوي البيانات الوصفية لمجموعة البيانات على معلومات حول البيانات مثل ما يتم قياسه والوحدة التي يتم قياسها بها وما يتم تخزينه في القيمة. في كثير من الأحيان، يتم تخزين البيانات بتنسيق int عدد صحيح لتقليل مساحة تخزين الذاكرة. وبالتالي ، لتحليل البيانات كما لو كانت قيمًا مادية ، يجب إعادة قياس القيمة المخزنة، بمعنى آخر، ضربها في عامل التحويل أو المضاعف. على سبيل المثال، يتم استخدام الكود أدناه للحصول على مضاعف مجموعة بيانات WaPOR لهطول الأمطار L2_AETI_D ومجموعة بيانات صافي الإنتاج الأولي L2_NPP_D. لاحظ أن المضاعف يمكن أن يكون مختلفًا لمجموعة البيانات المختلفة.    \n",
    "</div>\n"
   ]
  },
  {
   "cell_type": "code",
   "execution_count": null,
   "metadata": {},
   "outputs": [],
   "source": [
    "df=hkv.read_wapor.get_catalogus(version='2.0')\n",
    "\n",
    "ds_code='L2_NPP_D' \n",
    "cube_info=hkv.read_wapor.get_info_cube(cube_code=ds_code)\n",
    "multiplier = cube_info.loc['measures',ds_code].loc['multiplier'].iloc[0]\n",
    "print(ds_code+' multiplier: {0}'.format(multiplier))\n",
    "\n",
    "ds_code='L2_AETI_D' \n",
    "cube_info=hkv.read_wapor.get_info_cube(cube_code=ds_code)\n",
    "multiplier = cube_info.loc['measures',ds_code].loc['multiplier'].iloc[0]\n",
    "print(ds_code+' multiplier: {0}'.format(multiplier))"
   ]
  },
  {
   "cell_type": "markdown",
   "metadata": {},
   "source": [
    "<div dir=\"rtl\">\n",
    "لمضاعفة البيانات الأولية بمضاعف ، يمكنك فتح mapset كمصفوفة عددية والقيام بالحساب باستخدام هذه المصفوفة. تحتوي حزمة gdal على وظائف للعمل مع مجموعة الخرائط النقطية التي يمكن استخدامها للقيام بهذه المهمة. يحتوي الملف النقطي على العديد من الخصائص بما في ذلك الحجم وقيمة nodata والتحويل والمرجع المكاني والإسقاط وما إلى ذلك. يتم تخزين هذه المعلومات في مجموعة البيانات ويمكن قراءتها باستخدام حزمة gdal. يوجد أدناه الكود للحصول على هذه المعلومات من ملف GeoTIFF.    \n",
    "</div>"
   ]
  },
  {
   "cell_type": "code",
   "execution_count": null,
   "metadata": {},
   "outputs": [],
   "source": [
    "input_folder=r'.\\data\\L2_AETI_D'\n",
    "input_fhs=sorted(glob.glob(input_folder+'\\*.tif'))\n",
    "\n",
    "in_fh=input_fhs[0]\n",
    "print(in_fh)\n",
    "\n",
    "DataSet = gdal.Open(in_fh, gdal.GA_ReadOnly)\n",
    "\n",
    "Type = DataSet.GetDriver().ShortName #GDAL driver\n",
    "bandnumber=1 \n",
    "Subdataset = DataSet.GetRasterBand(bandnumber) # احصل على مجموعة البيانات الفرعية للنطاق 1\n",
    "NDV = Subdataset.GetNoDataValue() # لا توجد قيمة بيانات\n",
    "xsize = DataSet.RasterXSize # عدد الأعمدة في خطوط المسح\n",
    "ysize = DataSet.RasterYSize # عدد الصفوف في خطوط المسح\n",
    "GeoT = DataSet.GetGeoTransform() # التحويل الجغرافي (تنسيق وحدات بكسل الزاوية)\n",
    "Projection = osr.SpatialReference() # نظام الإسناد المكاني للخطوط النقطية\n",
    "Projection.ImportFromWkt(DataSet.GetProjectionRef())\n",
    "driver = gdal.GetDriverByName(Type)\n",
    "\n",
    "print('driver: {0} \\nNDV: {1}\\nxsize: {2}\\nysize: {3}\\nGeoT: {4}\\nProjection: {5}'.format(\n",
    "    driver, NDV, xsize, ysize, GeoT, Projection)) #print metadata"
   ]
  },
  {
   "cell_type": "markdown",
   "metadata": {},
   "source": [
    "<div dir=\"rtl\">\n",
    "يمكن قراءة البيانات الموجودة في مجموعة بيانات gdal باستخدام وظيفة ReadAsArray. على سبيل المثال ، يتم استخدام الكود أدناه لقراءة مجموعة بيانات GeoTIFF المفتوحة كمصفوفة عددية. يمكنك رسم البيانات في هذه المصفوفة باستخدام الوظيفة في مكتبة matplotlib. انظر إلى رمز المثال ومخطط الإخراج أدناه. لاحظ مكان حدوث ارتفاع مستوى البخرنتح. ضع في اعتبارك أن هذه هي البيانات الأولية التي تظهر متوسط AETI اليومي في dekad. وبالتالي ، سيتم تصحيح القيمة في شريط الألوان بمضاعف وعدد الأيام في الخطوة التالية    \n",
    "</div>"
   ]
  },
  {
   "cell_type": "code",
   "execution_count": null,
   "metadata": {
    "scrolled": false
   },
   "outputs": [],
   "source": [
    "Array = Subdataset.ReadAsArray().astype(np.float32) # قراءة مجموعة البيانات الفرعية كمصفوفة رقمية\n",
    "Array[Array == NDV] = np.nan # استبدل لا توجد قيمة بيانات بقيمة NAN\n",
    "\n",
    "plt.imshow(Array) # مخطط مجموعة كصورة\n",
    "plt.colorbar()\n",
    "plt.show()"
   ]
  },
  {
   "cell_type": "markdown",
   "metadata": {},
   "source": [
    "<div dir=\"rtl\">\n",
    "عادة ، يكون العقد 10 أيام ماعدا آخر عقد من الشهر. على سبيل المثال ، يمكن أن يحتوي آخر عقد في فبراير على 8 أو 9 أيام ، أما آخر عقد في يناير فيمكن أن يحتوي على 11 يومًا. يمكن حساب عدد الأيام في فترة البيانات النقطية عند معرفة تاريخ البدء والانتهاء. تذكر أنه في التمرين السابق ، يمكننا الحصول على هذه المعلومات باستخدام وظيفة الحزمة hkvwaporpy get_data_availity. أدناه يمكنك أن ترى أن كل raster_id له يوم بداية ونهاية.    \n",
    "</div>"
   ]
  },
  {
   "cell_type": "code",
   "execution_count": null,
   "metadata": {
    "scrolled": true
   },
   "outputs": [],
   "source": [
    "df_avail=hkv.read_wapor.get_data_availability(cube_info=cube_info,time_range='[2008-01-01,2018-12-31]')\n",
    "df_avail.head()"
   ]
  },
  {
   "cell_type": "markdown",
   "metadata": {},
   "source": [
    "<div dir=\"rtl\">\n",
    "يمكننا الوصول إلى هذه المعلومات واستخدامها لحساب عدد الأيام في فترة البيانات النقطية. فيما يلي مثال على كيفية الحصول على عدد الأيام في الفترة النقطية الأولى في قائمة البيانات المتاحة df_avail. يمكنك محاولة تعديل التعليمات البرمجية لإجراء نفس الحساب لفترات خطوط المسح الأخرى.    \n",
    "</div>"
   ]
  },
  {
   "cell_type": "code",
   "execution_count": null,
   "metadata": {},
   "outputs": [],
   "source": [
    "raster_id=os.path.basename(in_fh).split('.')[0] # احصل على معرف نقطي من اسم الملف\n",
    "print(raster_id)\n",
    "raster_info=df_avail.loc[df_avail['raster_id']==raster_id] # اقرأ الفترة المقابلة لمعرف البيانات النقطية\n",
    "raster_info"
   ]
  },
  {
   "cell_type": "markdown",
   "metadata": {},
   "source": [
    "<div dir=\"rtl\">\n",
    "حساب عدد الأيام في عقد من خطوط المسح. هنا ، raster_info ['start_dekad'] من نوع سلسلة لذا يجب تحويلها إلى رقم صحيح للحساب. ناتج خلية الشفرة أدناه هو عدد أيام العقد النقطية    \n",
    "</div>"
   ]
  },
  {
   "cell_type": "code",
   "execution_count": null,
   "metadata": {},
   "outputs": [],
   "source": [
    "start=int(raster_info['start_dekad'].iloc[0]) \n",
    "end=int(raster_info['end_dekad'].iloc[0])\n",
    "ndays=end-start+1\n",
    "ndays"
   ]
  },
  {
   "cell_type": "markdown",
   "metadata": {},
   "source": [
    "<div dir=\"rtl\">\n",
    "مجرد حصولنا على معلومات مضاعف عامل التحويل وعدد الأيام ، يمكننا تصحيح البيانات الأولية في مجموعة الخرائط النقطية بضرب النسق المفتوح بهاتين القيمتين. انظر المثال أدناه.    \n",
    "</div>"
   ]
  },
  {
   "cell_type": "code",
   "execution_count": null,
   "metadata": {
    "scrolled": false
   },
   "outputs": [],
   "source": [
    "print('المضاعف: {0}'.format(multiplier))\n",
    "print('عدد الأيام: {0}'.format(ndays))\n",
    "CorrectedArray=Array*multiplier*ndays\n",
    "plt.imshow(CorrectedArray)\n",
    "plt.colorbar()\n",
    "plt.show()"
   ]
  },
  {
   "cell_type": "markdown",
   "metadata": {},
   "source": [
    "<div dir=\"rtl\">\n",
    "لاحظ أن القيمة في شريط اللون لا تتغير لأن المصفوفة مضروبة بـ 0.1 و 10. إذا كان عدد الأيام مختلفًا عن 10 ، فإن القيمة الجديدة بـ mm / dekad ستكون مختلفة عن متوسط العقد اليومي mm / day. لحفظ نتيجتنا كملف نقطي (GeoTIFF) ، نحتاج إلى معرفة خصائص الملف النقطي الأصلي (برنامج التشغيل ، قيمة Nodata ، الحجم ، المدى ، الإسقاط). يوجد أدناه مثال لحفظ المصفوفة المصححة أعلاه كملف نقطي جديد. أولاً، يتم تحديد اسم ملف الإخراج ويتم إنشاء مجلد الإخراج إذا لم يكن موجودًا.    \n",
    "</div>"
   ]
  },
  {
   "cell_type": "code",
   "execution_count": null,
   "metadata": {},
   "outputs": [],
   "source": [
    "output_folder=r'.\\data\\L2_AETI_D_corrected'\n",
    "if not os.path.exists(output_folder): # تحقق مما إذا كان output_folder موجودًا\n",
    "    os.makedirs(output_folder) # إذا لم تقم بإنشاء ملف output_folder\n",
    "out_fh=os.path.join(output_folder,raster_id+'.tif') # يتم تحديد مسار ملف الإخراج\n",
    "print(out_fh)"
   ]
  },
  {
   "cell_type": "markdown",
   "metadata": {},
   "source": [
    "<div dir=\"rtl\">\n",
    "ثم يتم حفظ قيمة CorrectedArray كـ out_fh في مجلد الإخراج (data/L2_AETI_D_corrected) باستخدام الرموز أدناه    \n",
    "</div>\n",
    "\n",
    "[مجلد الإخراج](data/L2_AETI_D_corrected)"
   ]
  },
  {
   "cell_type": "code",
   "execution_count": null,
   "metadata": {},
   "outputs": [],
   "source": [
    "datatypes = {\"uint8\": 1, \"int8\": 1, \"uint16\": 2, \"int16\": 3, \"Int16\": 3, \"uint32\": 4,\n",
    "\"int32\": 5, \"float32\": 6, \"float64\": 7, \"complex64\": 10, \"complex128\": 11,\n",
    "\"Int32\": 5, \"Float32\": 6, \"Float64\": 7, \"Complex64\": 10, \"Complex128\": 11,}\n",
    "    \n",
    "driver, NDV, xsize, ysize, GeoT, Projection\n",
    "DataSet = driver.Create(out_fh,xsize,ysize,1,datatypes['float32']) # إنشاء مجموعة بيانات من برنامج التشغيل\n",
    "DataSet.GetRasterBand(1).SetNoDataValue(NDV) # تعيين قيمة Nodata لمجموعة البيانات الجديدة\n",
    "DataSet.SetGeoTransform(GeoT)# تعيين التحول الجغرافي\n",
    "DataSet.SetProjection(Projection.ExportToWkt()) \n",
    "DataSet.GetRasterBand(1).WriteArray(CorrectedArray) # اكتب قيم CorrectedArray إلى مجموعة البيانات الجديدة\n",
    "print(out_fh)"
   ]
  },
  {
   "cell_type": "markdown",
   "metadata": {},
   "source": [
    "<div dir=\"rtl\">\n",
    "\n",
    "###  2 تمرين    \n",
    "    \n",
    "</div>\n",
    "\n",
    "<div dir=\"rtl\">\n",
    "قم بتصحيح جميع بيانات AETI و E و T و I العقدية التي تم تنزيلها من دفتر الملاحظات السابق (1_Download_WaPOR_using_hkvwaporpy.ipynb) التمرين 1 مع مضاعف وعدد الأيام في dekad.    \n",
    "</div>\n",
    "\n",
    "[دفتر الملاحظات السابق](1_Download_WaPOR_using_hkvwaporpy.ipynb)\n",
    "\n",
    "<div dir=\"rtl\">\n",
    "ملحوظة:\n",
    "  استفد من الوظائف في الأمثلة. يمكنك استخدام حلقة for-loop. يمكنك إنشاء وظيفتك الخاصة باستخدام def لإعادة استخدامها لاحقً    \n",
    "</div>\n",
    "\n",
    "**def** Function(Inputs):\n",
    "\n",
    "    Do something with Inputs #افعل شيئًا باستخدام المدخلات\n",
    "    \n",
    "    return Output"
   ]
  },
  {
   "cell_type": "code",
   "execution_count": null,
   "metadata": {},
   "outputs": [],
   "source": [
    "import hkvwaporpy as hkv\n",
    "import glob\n",
    "import os\n",
    "from osgeo import gdal\n",
    "import numpy as np\n",
    "import osr\n",
    "\n",
    "def GetGeoInfo(fh, subdataset = 0):\n",
    "    '''\n",
    "    تستخرج هذه الوظيفة البيانات الوصفية من ملف GeoTIFF أو HDF4 أو netCDF.      \n",
    "    ''' \n",
    "    '''\n",
    "    اكتب الكود الخاص بك هنا\n",
    "    ''' \n",
    "    return driver, NDV, xsize, ysize, GeoT, Projection\n",
    "\n",
    "def OpenAsArray(fh, bandnumber = 1, dtype = 'float32', nan_values = False):\n",
    "    '''\n",
    "    تقرأ هذه الوظيفة ملف GeoTIFF أو HDF4 كمصفوفة numpy.\n",
    "    ''' \n",
    "    '''\n",
    "    اكتب الكود الخاص بك هنا\n",
    "    ''' \n",
    "    return Array\n",
    "\n",
    "def CreateGeoTiff(fh, Array, driver, NDV, xsize, ysize, GeoT, \n",
    "                  Projection, explicit = True, compress = None):      \n",
    "    '''\n",
    "    تقوم هذه الوظيفة بحفظ مصفوفة numpy كملف GeoTIFF نقطي.\n",
    "    ''' \n",
    "    '''\n",
    "    اكتب الكود الخاص بك هنا\n",
    "    ''' "
   ]
  },
  {
   "cell_type": "markdown",
   "metadata": {},
   "source": [
    "<div dir=\"rtl\">\n",
    "بعد إكمال وتحديد الوظائف المذكورة أعلاه ، يمكنك إعادة استخدامها في الكود أدناه لتصحيح بيانات dekadal AETI    \n",
    "</div>"
   ]
  },
  {
   "cell_type": "code",
   "execution_count": null,
   "metadata": {
    "scrolled": true
   },
   "outputs": [],
   "source": [
    "df=hkv.read_wapor.get_catalogus()\n",
    "ds_code='L2_AETI_D' \n",
    "cube_info=hkv.read_wapor.get_info_cube(cube_code=ds_code)\n",
    "df_avail=hkv.read_wapor.get_data_availability(cube_info=cube_info,time_range='[2009-01-01,2009-12-31]')\n",
    "\n",
    "### احصل على المضاعف\n",
    "multiplier = cube_info.loc['measures',ds_code].loc['multiplier'].iloc[0]\n",
    "\n",
    "### الحصول على البيانات النقطية\n",
    "input_folder=r'.\\data\\L2_AETI_D'\n",
    "input_fhs=sorted(glob.glob(input_folder+'\\*.tif'))\n",
    "\n",
    "output_folder=r'.\\data\\L2_AETI_D_corrected'\n",
    "if not os.path.exists(output_folder):\n",
    "    os.makedirs(output_folder)\n",
    "### احصل على GeoInfo\n",
    "in_fh=input_fhs[0]\n",
    "driver, NDV, xsize, ysize, GeoT, Projection=GetGeoInfo(in_fh)\n",
    "\n",
    "### الحساب\n",
    "for in_fh in input_fhs:\n",
    "    ### احصل على عدد الأيام في الفترة النقطية\n",
    "    raster_id=os.path.split(in_fh)[-1].split('.')[0]\n",
    "    raster_info=df_avail.loc[df_avail['raster_id']==raster_id]\n",
    "    start=int(raster_info['start_dekad'].iloc[0])\n",
    "    end=int(raster_info['end_dekad'].iloc[0])\n",
    "    ndays=end-start+1\n",
    "    ### تصحيح البيانات النقطية مع المضاعف وعدد الأيام\n",
    "    Array=OpenAsArray(in_fh,nan_values=True)\n",
    "    CorrectedArray=Array*multiplier*ndays\n",
    "    ### حفظ مجموعة مصححة\n",
    "    out_fh=os.path.join(output_folder,raster_id+'.tif')\n",
    "    CreateGeoTiff(out_fh, CorrectedArray, driver, NDV, xsize, ysize, GeoT, Projection)\n",
    "    print(out_fh)"
   ]
  },
  {
   "cell_type": "markdown",
   "metadata": {},
   "source": [
    "## Step 3. Aggregate monthly data\n",
    "\n",
    "<div dir=\"rtl\">\n",
    "الخطوة 3. تجميع البيانات الشهرية    \n",
    "</div>\n",
    "\n",
    "<div dir=\"rtl\">    \n",
    "\n",
    "### مثال\n",
    "    \n",
    "</div>    \n",
    "\n",
    "<div dir=\"rtl\">\n",
    "لاحظ أن البيانات الشهرية متوفرة فقط في إصدارات WaPOR 2 بينما الإصدار 1 يحتوي فقط على بيانات عقدية وسنوية. في هذه الحالة ، يمكنك تجميع العقد لحساب البيانات الشهرية. لتحويل البيانات العقدية أو اليومية إلى بيانات شهرية ، سنجمع جميع البيانات في الخرائط النقطية العقدية في الشهر. أولاً ، سنحصل على قائمة بكل شهور وسنوات البيانات المتوفرة لدينا. على سبيل المثال ، يوجد أدناه رمز للحصول على قائمة بالشهر والسنة التي يجب حسابها.    \n",
    "</div>"
   ]
  },
  {
   "cell_type": "code",
   "execution_count": null,
   "metadata": {
    "scrolled": true
   },
   "outputs": [],
   "source": [
    "start_date='2009-01-01'\n",
    "end_date='2009-12-31'\n",
    "month_dates=pd.date_range(start_date,end_date,freq='M')\n",
    "for date in month_dates:\n",
    "    print(date.year,date.month)"
   ]
  },
  {
   "cell_type": "markdown",
   "metadata": {},
   "source": [
    "<div dir=\"rtl\">\n",
    "الآن ، عندما ننظر إلى قائمة البيانات العقدية التي لدينا. تم استخدام raster_id لتسمية الملف النقطي في التمرين السابق. يحتوي هذا raster_id فقط على السنة ومؤشر dekad (من 1 إلى 36).    \n",
    "</div>"
   ]
  },
  {
   "cell_type": "code",
   "execution_count": null,
   "metadata": {
    "scrolled": true
   },
   "outputs": [],
   "source": [
    "input_folder=r'.\\data\\L2_AETI_D_corrected'\n",
    "input_fhs=sorted(glob.glob(input_folder+'\\*.tif'))\n",
    "\n",
    "ds_code='L2_AETI_D' \n",
    "cube_info=hkv.read_wapor.get_info_cube(cube_code=ds_code)\n",
    "df_avail=hkv.read_wapor.get_data_availability(cube_info=cube_info,time_range='[2008-01-01,2018-12-31]')\n",
    "\n",
    "for in_fh in input_fhs:\n",
    "    print(in_fh)"
   ]
  },
  {
   "cell_type": "markdown",
   "metadata": {},
   "source": [
    "<div dir=\"rtl\">\n",
    "لذلك ، سوف نستخدم raster_id هذا للحصول على شهر dekad من df_avail dataframe. تذكر من التمرين السابق استخدمنا start_dekad و end_dekad لحساب عدد الايام في العقد؟ يمكننا أيضًا استخدام هذا للتحقق مما إذا كان مؤشر dekad ينتمي إلى الشهر الذي نريد حساب القيمة الإجمالية باستخدام شرط if. على سبيل المثال ، الشهر الذي نريد حساب القيمة الإجمالية هو الشهر الأول من القائمة (date = month_dates[0]). نقوم بعمل حلقة فوق جميع الملفات النقطية ونتحقق مما إذا كان الشهر والسنة اللذين ينتمي إليهما متماثلان مع الشهر والسنة اللذين نريد حسابهما.    \n",
    "</div>\n",
    "\n",
    "**if** (year==date.year)&(month==date.month):\n",
    "\n",
    "    month_fhs.append(in_fh)\n",
    "\n",
    "\n",
    "<div dir=\"rtl\">\n",
    "    \n",
    "إذا كان هذا صحيحًا ، فسيتم إضافة معالج الملف النقطي إلى قائمة معالجات الملفات التي تنتمي إلى الشهر المعني. على سبيل المثال ، تحصل الشفرة أدناه على قائمة بمعالجات الملفات النقطية الخاصة بـ dekads تنتمي إلى الشهر الأول من عام 2009.    \n",
    "</div>"
   ]
  },
  {
   "cell_type": "code",
   "execution_count": null,
   "metadata": {
    "scrolled": true
   },
   "outputs": [],
   "source": [
    "date=month_dates[0]\n",
    "print(date)\n",
    "month_fhs=[]\n",
    "for in_fh in input_fhs:\n",
    "    raster_id=os.path.split(in_fh)[-1].split('.')[0]\n",
    "    raster_info=df_avail.loc[df_avail['raster_id']==raster_id]\n",
    "    start=raster_info['start_dekad'].iloc[0]\n",
    "    year=raster_info.index.values.astype(int)[0]\n",
    "    month=int(start[0:2])\n",
    "    if (year==date.year)&(month==date.month):\n",
    "        month_fhs.append(in_fh)\n",
    "print(month_fhs)"
   ]
  },
  {
   "cell_type": "markdown",
   "metadata": {},
   "source": [
    "<div dir=\"rtl\">\n",
    "لإضافة البيانات من النقطيات الثلاثة ، نقوم بإنشاء مصفوفة أصفار ثنائية الأبعاد بنفس الحجم باستخدام النقطيات الثلاثة باستخدام np.zeros ثم اقرأ كل نقطية كمصفوفة وأضف القيمة إلى مجموعة الأصفار هذه. يوجد أدناه مثال لحساب SumArray    \n",
    "</div>"
   ]
  },
  {
   "cell_type": "code",
   "execution_count": null,
   "metadata": {},
   "outputs": [],
   "source": [
    "print(input_fhs[0])\n",
    "driver, NDV, xsize, ysize, GeoT, Projection=GetGeoInfo(input_fhs[0])\n",
    "print(xsize,ysize)\n",
    "SumArray=np.zeros((ysize,xsize))\n",
    "for fh in month_fhs:\n",
    "    Array=OpenAsArray(fh,nan_values=True)\n",
    "    SumArray+=Array\n",
    "plt.imshow(SumArray)\n",
    "plt.colorbar()\n",
    "plt.show()"
   ]
  },
  {
   "cell_type": "markdown",
   "metadata": {},
   "source": [
    "<div dir=\"rtl\">\n",
    "باستخدام وظيفة Create GeoTiff التي تم تحديدها من قبل ، يمكننا حفظ Sum Array كبيانات نقطية شهرية    \n",
    "</div>"
   ]
  },
  {
   "cell_type": "code",
   "execution_count": null,
   "metadata": {},
   "outputs": [],
   "source": [
    "output_folder=r'.\\data\\L2_AETI_M'\n",
    "if not os.path.exists(output_folder):\n",
    "    os.makedirs(output_folder)\n",
    "out_fh=os.path.join(output_folder,'AETI_{:04d}{:02d}.tif'.format(date.year,date.month))\n",
    "print(out_fh)\n",
    "CreateGeoTiff(out_fh, SumArray, driver, NDV, xsize, ysize, GeoT, Projection)"
   ]
  },
  {
   "cell_type": "markdown",
   "metadata": {},
   "source": [
    "<div dir=\"rtl\">\n",
    "باستخدام حلقة for-loop للتكرار على مدار جميع تواريخ الشهر لعام 2009 ، يمكننا تجميع البيانات النقطية الشهرية من جميع بيانات dekadal النقطية التي تم تنزيلها. سيتم حفظ الملفات الناتجة في مجلد الإخراج L2_AETI_M (data/L2_AETI_M)    \n",
    "</div>\n",
    "\n",
    "[L2_AETI_M](data/L2_AETI_M)"
   ]
  },
  {
   "cell_type": "code",
   "execution_count": null,
   "metadata": {},
   "outputs": [],
   "source": [
    "for date in month_dates:\n",
    "    month_fhs=[]\n",
    "    for in_fh in input_fhs:\n",
    "        raster_id=os.path.split(in_fh)[-1].split('.')[0]\n",
    "        raster_info=df_avail.loc[df_avail['raster_id']==raster_id]\n",
    "        start=raster_info['start_dekad'].iloc[0]\n",
    "        year=raster_info.index.values.astype(int)[0]\n",
    "        month=int(start[0:2])\n",
    "        if (year==date.year)&(month==date.month):\n",
    "            month_fhs.append(in_fh)\n",
    "    SumArray=np.zeros((ysize,xsize))\n",
    "    for fh in month_fhs:\n",
    "        Array=OpenAsArray(fh,nan_values=True)\n",
    "        SumArray+=Array\n",
    "    out_fh=os.path.join(output_folder,'AETI_{:04d}{:02d}.tif'.format(date.year,date.month))\n",
    "    CreateGeoTiff(out_fh, SumArray, driver, NDV, xsize, ysize, GeoT, Projection)"
   ]
  },
  {
   "cell_type": "markdown",
   "metadata": {},
   "source": [
    "## Step 4. Aggregate data in a period\n",
    "\n",
    "<div dir=\"rtl\">\n",
    "الخطوة 4. تجميع البيانات في فترة    \n",
    "</div>\n",
    "\n",
    "\n",
    "<div dir=\"rtl\">\n",
    "في حال أردنا تجميع بيانات dekadal النقطية لفترة مخصصة بدلاً من الشهر (على سبيل المثال ، مواسم المحاصيل) ، يمكننا استخدام خطوات مماثلة. أولاً ، احصل على قائمة بجميع البيانات النقطية المصححة في المجلد    \n",
    "</div>"
   ]
  },
  {
   "cell_type": "code",
   "execution_count": null,
   "metadata": {
    "scrolled": true
   },
   "outputs": [],
   "source": [
    "input_folder=r'.\\data\\L2_AETI_D_corrected'\n",
    "input_fhs=sorted(glob.glob(input_folder+'\\*.tif'))\n",
    "input_fhs"
   ]
  },
  {
   "cell_type": "markdown",
   "metadata": {},
   "source": [
    "<div dir=\"rtl\">\n",
    "أنشئ الفترة بتواريخ البدء والانتهاء. على سبيل المثال ، هنا تبدأ الفترة من فبراير إلى أغسطس 2009    \n",
    "</div>"
   ]
  },
  {
   "cell_type": "code",
   "execution_count": null,
   "metadata": {},
   "outputs": [],
   "source": [
    "start_period='2009-02-01'\n",
    "end_period='2009-08-10'\n",
    "period_dates=pd.date_range(start_period,end_period,freq='D')\n",
    "period_dates"
   ]
  },
  {
   "cell_type": "markdown",
   "metadata": {},
   "source": [
    "<div dir=\"rtl\">\n",
    "بعد ذلك ، سوف نحصل على جدول المعلومات النقطية المتاح لعام 2009 باستخدام وظيفة hkvwaporpy    \n",
    "</div>"
   ]
  },
  {
   "cell_type": "code",
   "execution_count": null,
   "metadata": {
    "scrolled": true
   },
   "outputs": [],
   "source": [
    "df=hkv.read_wapor.get_catalogus(version='2.0')\n",
    "ds_code='L2_AETI_D' \n",
    "cube_info=hkv.read_wapor.get_info_cube(cube_code=ds_code)\n",
    "df_avail=hkv.read_wapor.get_data_availability(cube_info=cube_info,time_range='[2009-01-01,2009-12-31]')\n",
    "df_avail"
   ]
  },
  {
   "cell_type": "markdown",
   "metadata": {},
   "source": [
    "<div dir=\"rtl\">\n",
    "قم بالتمرير على قائمة البيانات النقطية في المجلد وتحقق مما إذا كان تاريخ بداية البيانات النقطية أو نهايتها ينتمي إلى الفترة. إذا كان هذا صحيحًا ، فقم بإلحاق مؤشر الملف النقطي بقائمة period_fhs. القائمة الناتجة سوف تحتوي على ملف نقطي من dekad 0904 (أول dekad من فبراير 2009) إلى dekad 0922 (أول dekad من أغسطس 2009)    \n",
    "</div>"
   ]
  },
  {
   "cell_type": "code",
   "execution_count": null,
   "metadata": {},
   "outputs": [],
   "source": [
    "period_fhs=[]\n",
    "for in_fh in input_fhs:\n",
    "    # احصل على معرف نقطي من اسم الملف\n",
    "    raster_id=os.path.split(in_fh)[-1].split('.')[0]\n",
    "    # الحصول على معلومات نقطية باستخدام معرف البيانات النقطية\n",
    "    raster_info=df_avail.loc[df_avail['raster_id']==raster_id]    \n",
    "    # الحصول على سلسلة زمنية\n",
    "    startstr=raster_info['start_dekad'].iloc[0]\n",
    "    endstr=raster_info['end_dekad'].iloc[0]\n",
    "    yearstr=raster_info.index[0]\n",
    "    # الحصول على تاريخ البدء والانتهاء من البيانات النقطية\n",
    "    raster_startdate=pd.Timestamp(int(yearstr),int(startstr[0:2]),int(startstr[2:4]),0)\n",
    "    raster_enddate=pd.Timestamp(int(yearstr),int(endstr[0:2]),int(endstr[2:4]),0)\n",
    "    # تحقق مما إذا كانت البيانات النقطية تنتمي إلى فترة\n",
    "    if ((raster_startdate in period_dates) or (raster_enddate in period_dates)):\n",
    "        period_fhs.append(in_fh)   \n",
    "period_fhs"
   ]
  },
  {
   "cell_type": "markdown",
   "metadata": {},
   "source": [
    "<div dir=\"rtl\">\n",
    "جمع كل مجموعات البيانات النقطية في فترة لتجميع بيانات الفترة.    \n",
    "</div>"
   ]
  },
  {
   "cell_type": "code",
   "execution_count": null,
   "metadata": {},
   "outputs": [],
   "source": [
    "driver, NDV, xsize, ysize, GeoT, Projection=GetGeoInfo(period_fhs[0])\n",
    "SumArray=np.zeros((ysize,xsize))\n",
    "for fh in period_fhs:\n",
    "    Array=OpenAsArray(fh,nan_values=True)\n",
    "    SumArray+=Array\n",
    "out_fh=os.path.join(f'.\\data\\L2_AETI_{start_period}_{end_period}.tif')\n",
    "CreateGeoTiff(out_fh, SumArray, driver, NDV, xsize, ysize, GeoT, Projection)"
   ]
  },
  {
   "cell_type": "markdown",
   "metadata": {},
   "source": [
    "## Step 5. Warp raster data\n",
    "\n",
    "<div dir=\"rtl\">\n",
    "الخطوة 5. اعوجاج البيانات النقطية\n",
    "</div>\n",
    "\n",
    "<div dir=\"rtl\">\n",
    "  تأتي البيانات المكانية بأحجام ودقة مختلفة ونظام مرجعي مكاني مختلف. على سبيل المثال ، عند فتحها كمصفوفة ، يختلف حجم خرائط الترسيب والبخرنتح الفعلي والاعتراض. يوجد أدناه حجم طبقة خطوط هطول الأمطار.     \n",
    "</div>\n"
   ]
  },
  {
   "cell_type": "code",
   "execution_count": null,
   "metadata": {},
   "outputs": [],
   "source": [
    "P_fh=r\".\\data\\L1_PCP_E_cropped\\L1_PCP_090101.tif\"\n",
    "P=OpenAsArray(P_fh,nan_values=True)\n",
    "print(P.shape)\n",
    "plt.imshow(P)\n",
    "plt.colorbar()\n",
    "plt.show()"
   ]
  },
  {
   "cell_type": "markdown",
   "metadata": {},
   "source": [
    "<div dir=\"rtl\">\n",
    "ويوجد أسفل هذه الخلية حجم طبقة AETI النقطية    \n",
    "</div>"
   ]
  },
  {
   "cell_type": "code",
   "execution_count": null,
   "metadata": {},
   "outputs": [],
   "source": [
    "ET_fh=r\".\\data\\L2_AETI_M\\AETI_200901.tif\"\n",
    "ET=OpenAsArray(ET_fh,nan_values=True)\n",
    "print(ET.shape)\n",
    "plt.imshow(ET)\n",
    "plt.colorbar()\n",
    "plt.show()"
   ]
  },
  {
   "cell_type": "markdown",
   "metadata": {},
   "source": [
    "<div dir=\"rtl\">\n",
    "كما نرى ، فإن بيانات هطول الأمطار لها دقة أقل (0.5 درجة) ، وبالتالي حجم مصفوفة أصغر (90 × 107) من بيانات AETI (100 متر و 4529 × 5406). بالنسبة لهاتين النقطتين في نفس الحساب ، يجب تحويلهما إلى نفس الحجم والدقة والإسقاط. هنا ، نستخدم خريطة استخدام الأراضي كقالب لتشويه هذه البيانات في نفس النموذج.\n",
    "</div>\n",
    "\n",
    "<div dir=\"rtl\">\n",
    "يمكن القيام بذلك باستخدام دالة gdal.Warp ووظيفة فسيفساء للصورة وإعادة إسقاط وتزييف. يتم استخدام gdal.Warp لتشويه البيانات النقطية المحددة لحجم البيانات المحددة مسبقًا والمدى المكاني ، وإعادة إسقاطها إلى نظام الإسناد المكاني المحدد مسبقًا. الى gdal. قم بلف ملف نقطي لمطابقة الإسقاط والحجم والمدى مع ملف نقطي آخر ، يجب الحصول على معلومات الملف الهدف أولاً. الوظيفة التالية هي الحصول على قيمة nodata ونظام الإسناد المكاني وحجم البيانات والمدى المكاني لملف نقطي باستخدام حزمة gdal.\n",
    "</div>\n",
    "\n",
    "<div dir=\"rtl\">\n",
    "على سبيل المثال ، هنا الملف النقطي لخريطة AETI هو الملف الهدف. نريد مطابقة الإسقاط والحجم ومدى الملف المصدر، وهو هطول الأمطار، مع الملف الهدف.    \n",
    "</div>"
   ]
  },
  {
   "cell_type": "code",
   "execution_count": null,
   "metadata": {},
   "outputs": [],
   "source": [
    "src_info=gdal.Info(gdal.Open(P_fh),format='json')\n",
    "dst_info=gdal.Info(gdal.Open(ET_fh),format='json')\n",
    "\n",
    "print('Source info: ',src_info,'\\n')\n",
    "\n",
    "print('Target info: ',dst_info)"
   ]
  },
  {
   "cell_type": "markdown",
   "metadata": {},
   "source": [
    "<div dir=\"rtl\">\n",
    "بعد الحصول على src_info من المصدر ومعلومات الهدف dst_info ، يمكننا إملاء هذه المعلومات إلى gdal.Warp على النحو التالي. إذا كان gdal. انتهى من وظيفة الالتفاف بنجاح، ستقوم بإرجاع كائن osgeo.gdal.Dataset وسيتم حفظ الملف النقطي الناتج في مجلد الإخراج (data/L1_PCP_E_warped)    \n",
    "</div>\n",
    "\n",
    "[مجلد الإخراج](data/L1_PCP_E_warped)"
   ]
  },
  {
   "cell_type": "code",
   "execution_count": null,
   "metadata": {},
   "outputs": [],
   "source": [
    "source_file=P_fh\n",
    "output_folder=r'.\\data\\L1_PCP_E_warped'\n",
    "if not os.path.exists(output_folder): # إنشاء output_folder إذا لم يكن موجودًا\n",
    "    os.makedirs(output_folder)\n",
    "    \n",
    "filename=os.path.basename(source_file) # الحصول على اسم الملف من مسار ملف المصدر\n",
    "output_file=os.path.join(output_folder,filename) # إنشاء مسار ملف الإخراج\n",
    "\n",
    "gdal.Warp(output_file,P_fh,format='GTiff',\n",
    "              srcSRS=src_info['coordinateSystem']['wkt'],\n",
    "              dstSRS=dst_info['coordinateSystem']['wkt'],\n",
    "              srcNodata=src_info['bands'][0]['noDataValue'],\n",
    "              dstNodata=dst_info['bands'][0]['noDataValue'],\n",
    "              width=dst_info['size'][0],\n",
    "              height=dst_info['size'][1],\n",
    "              outputBounds=(dst_info['cornerCoordinates']['lowerLeft'][0],\n",
    "                            dst_info['cornerCoordinates']['lowerLeft'][1],\n",
    "                            dst_info['cornerCoordinates']['upperRight'][0],\n",
    "                            dst_info['cornerCoordinates']['upperRight'][1]),\n",
    "              outputBoundsSRS=dst_info['coordinateSystem']['wkt'],\n",
    "              resampleAlg='near')"
   ]
  },
  {
   "cell_type": "markdown",
   "metadata": {},
   "source": [
    "<div dir=\"rtl\">\n",
    "\n",
    "### التمرين 3\n",
    "    \n",
    "</div>\n",
    "\n",
    "<div dir=\"rtl\">\n",
    "قم بعمل وظيفة معرّفة من قبل المستخدم لتحويل أي ملف نقطي بنقطية معينة. استخدم هذه الوظيفة لمطابقة الإسقاط والحجم ومدى كل هطول الأمطار مع بيانات ET. \n",
    "</div>\n"
   ]
  },
  {
   "cell_type": "code",
   "execution_count": null,
   "metadata": {},
   "outputs": [],
   "source": [
    "def MatchProjResNDV(source_file, target_fhs, output_dir, resample = 'near', \n",
    "                    dtype = 'float32', scale = None, ndv_to_zero = False):\n",
    "    \"\"\"\n",
    "    تعمل هذه الوظيفة على تحويل جميع الملفات النقطية في قائمة بنفس الحجم،\n",
    "    الدقة والإسقاط بملف مصدر نقطي.\n",
    "    \"\"\"\n",
    "    '''\n",
    "    اكتب رمزك هنا ''\n",
    "    '''\n",
    "    return output_files\n",
    "\n",
    "input_folder=r\".\\data\\L1_PCP_E_cropped\"\n",
    "input_fhs=sorted(glob.glob(os.path.join(input_folder,'*.tif')))\n",
    "output_folder=r'.\\data\\L1_PCP_E_warped'\n",
    "MatchProjResNDV(ET_fh, input_fhs, output_folder)"
   ]
  },
  {
   "cell_type": "markdown",
   "metadata": {},
   "source": [
    "## Step 6. Clip to Shapefile cutline\n",
    "\n",
    "<div dir=\"rtl\">\n",
    "الخطوة 6. القص إلى حدود ملف الشكل\n",
    "</div>\n",
    "\n",
    "<div dir=\"rtl\">\n",
    "الخطوة 1 تقوم فقط بقص البيانات النقطية في المربع المحيط. عندما نحتاج إلى استبعاد وحدات البكسل خارج منطقة الاهتمام ، على سبيل المثال ، في حالة الحوض الهيدرولوجي أو كتلة الري ، يمكننا استخدام gdal.Warp مع خيار القطع لقص خطوط المسح إلى حدود المضلع لملف الشكل. انظر المثال أدناه       \n",
    "</div>"
   ]
  },
  {
   "cell_type": "code",
   "execution_count": null,
   "metadata": {},
   "outputs": [],
   "source": [
    "input_fh=r\".\\data\\L1_PCP_E_warped\\L1_PCP_090101.tif\" # المسار إلى البيانات النقطية المراد قصها\n",
    "shp_fh=r\".\\data\\Awash_shapefile.shp\" # المسار إلى ملف الشكل الذي يحتوي على مضلع المنطقة محل الاهتمام\n",
    "\n",
    "output_folder=r'.\\data\\L1_PCP_E_clipped'# مسار لمجلد الإخراج\n",
    "if not os.path.exists(output_folder): # إنشاء output_folder إذا لم يكن موجودًا\n",
    "    os.makedirs(output_folder)\n",
    "    \n",
    "filename=os.path.basename(source_file) # الحصول على اسم الملف من مسار ملف المصدر\n",
    "output_fh=os.path.join(output_folder,filename) # إنشاء مسار ملف الإخراج"
   ]
  },
  {
   "cell_type": "markdown",
   "metadata": {},
   "source": [
    "<div dir=\"rtl\">\n",
    "بعد تحديد الملف النقطي للإدخال والإخراج ومسارات ملف الأشكال ، يمكننا استخدام وظيفة مكتبة ogr لقراءة مجموعة بيانات الشكل ككائن gdal للحصول على اسم الطبقة. بعد ذلك ، استخدم مسار ملف الشكل والطبقة كوسائط خيارات لوظيفة gdal.Warp. تحقق من ملف الإخراج في مجلد الإخراج (data/L1_PCP_E_clipped)    \n",
    "</div>\n",
    "\n",
    "[مجلد الإخراج](data/L1_PCP_E_clipped)"
   ]
  },
  {
   "cell_type": "code",
   "execution_count": null,
   "metadata": {},
   "outputs": [],
   "source": [
    "inDriver = ogr.GetDriverByName(\"ESRI Shapefile\")\n",
    "inDataSource = inDriver.Open(shp_fh, 1) # قراءة ملف الشكل كمجموعة بيانات gdal\n",
    "inLayer = inDataSource.GetLayer()    \n",
    "options = gdal.WarpOptions(cutlineDSName = shp_fh,\n",
    "                           cutlineLayer = inLayer.GetName(),\n",
    "                           cropToCutline = True, \n",
    "                           dstNodata=NDV\n",
    "                           )\n",
    "sourceds = gdal.Warp(output_fh, input_fh, options = options)"
   ]
  },
  {
   "cell_type": "markdown",
   "metadata": {},
   "source": [
    "<div dir=\"rtl\">\n",
    "يوجد أدناه قيمة إدخال البيانات النقطية قبل القطع    \n",
    "</div>"
   ]
  },
  {
   "cell_type": "code",
   "execution_count": null,
   "metadata": {},
   "outputs": [],
   "source": [
    "input_array=OpenAsArray(input_fh,nan_values=True)\n",
    "plt.imshow(input_array)\n",
    "plt.colorbar()\n",
    "plt.show()"
   ]
  },
  {
   "cell_type": "markdown",
   "metadata": {},
   "source": [
    "<div dir=\"rtl\">\n",
    "وأدناه هي قيمة الناتج النقطي بعد القطع.    \n",
    "</div>"
   ]
  },
  {
   "cell_type": "code",
   "execution_count": null,
   "metadata": {},
   "outputs": [],
   "source": [
    "output_array=OpenAsArray(output_fh,nan_values=True)\n",
    "plt.imshow(output_array)\n",
    "plt.colorbar()\n",
    "plt.show()"
   ]
  },
  {
   "cell_type": "markdown",
   "metadata": {},
   "source": [
    "<div dir=\"rtl\">\n",
    "على غرار الخطوة 5 ، يمكننا تحديد وظيفة جديدة وتطبيقها على جميع الملفات المراد قصها.    \n",
    "</div>"
   ]
  },
  {
   "cell_type": "code",
   "execution_count": null,
   "metadata": {},
   "outputs": [],
   "source": [
    "def CliptoShp(input_fhs,output_folder,shp_fh,NDV=-9999):\n",
    "    \"\"\"\n",
    "    قص خطوط المسح إلى خط الحدود لملف الشكل\n",
    "    \n",
    "    المعلمات\n",
    "    ----------\n",
    "    input_fhs : list\n",
    "        قائمة ملفات الإدخال النقطية\n",
    "    output_folder : str\n",
    "        المسار إلى المجلد حيث يتم حفظ البيانات النقطية للإخراج\n",
    "    shp_fh : str\n",
    "        مجلد لتخزين الإخراج.\n",
    "    NDV : float or int, optional\n",
    "        لا توجد قيمة بيانات للمخرجات النقطية\n",
    "        \n",
    "    عائدات\n",
    "    -------\n",
    "    output_fhs : list \n",
    "        مقابض الملفات للملفات التي تم إنشاؤها.\n",
    "    \"\"\"\n",
    "    inDriver = ogr.GetDriverByName(\"ESRI Shapefile\")\n",
    "    inDataSource = inDriver.Open(shp_fh, 1)\n",
    "    inLayer = inDataSource.GetLayer()    \n",
    "    options = gdal.WarpOptions(cutlineDSName = shp_fh,\n",
    "                               cutlineLayer = inLayer.GetName(),\n",
    "                               cropToCutline = True, \n",
    "                               dstNodata=NDV\n",
    "                               )\n",
    "    output_fhs=[]\n",
    "    for input_fh in input_fhs:\n",
    "        output_fh=os.path.join(output_folder,os.path.basename(input_fh))\n",
    "        sourceds = gdal.Warp(output_fh, input_fh, options = options)\n",
    "        output_fhs.append(output_fh)\n",
    "    return output_fhs"
   ]
  },
  {
   "cell_type": "markdown",
   "metadata": {},
   "source": [
    "<div dir=\"rtl\">\n",
    "باستخدام وظيفة CliptoShp المحددة ، يمكن قص جميع الملفات النقطية في مجلد الإدخال (data\\L1_PCP_E_warped) إلى حد المضلع لملف الشكل. سيتم حفظ ملفات الإخراج في مجلد الإخراج (data\\L1_PCP_E_clipped).    \n",
    "</div>\n",
    "\n",
    "[مجلد الإدخال](data\\L1_PCP_E_warped) \n",
    "\n",
    "[مجلد الإخراج](data\\L1_PCP_E_clipped)\n"
   ]
  },
  {
   "cell_type": "code",
   "execution_count": null,
   "metadata": {},
   "outputs": [],
   "source": [
    "input_folder=r\".\\data\\L1_PCP_E_warped\"\n",
    "input_fhs=sorted(glob.glob(os.path.join(input_folder,'*.tif')))\n",
    "output_folder=r'.\\data\\L1_PCP_E_clipped'\n",
    "CliptoShp(input_fhs, output_folder,shp_fh)"
   ]
  }
 ],
 "metadata": {
  "kernelspec": {
   "display_name": "Python 3",
   "language": "python",
   "name": "python3"
  },
  "language_info": {
   "codemirror_mode": {
    "name": "ipython",
    "version": 3
   },
   "file_extension": ".py",
   "mimetype": "text/x-python",
   "name": "python",
   "nbconvert_exporter": "python",
   "pygments_lexer": "ipython3",
   "version": "3.7.9"
  }
 },
 "nbformat": 4,
 "nbformat_minor": 2
}
