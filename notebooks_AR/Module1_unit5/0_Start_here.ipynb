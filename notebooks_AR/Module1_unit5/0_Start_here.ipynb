{
 "cells": [
  {
   "cell_type": "markdown",
   "metadata": {},
   "source": [
    "<div dir=\"rtl\">\n",
    "\n",
    "# الملف التمهيدي    \n",
    "    \n",
    "</div>\n",
    "\n",
    "<div dir=\"rtl\">  \n",
    "تعد الدفاتر التالية أمثلة على كيفية استخدام Python للاتصال بواجهة WaPOR API:\n",
    "\n",
    "* [1- قراءة الكتالوج والبيانات الوصفية](1_Read_catalog_metadata.ipynb)\n",
    "* [2- الحصول على جدول البيانات المتاح](2_AvailableData_Table.ipynb)\n",
    "* [3- الحصول على تسلسل زمني للنقاط](3_PixelTimeSeries.ipynb)\n",
    "* [4- الحصول على سلاسل زمنية لإحصائيات المنطقة](4_AreaStatsTimeSeries.ipynb)\n",
    "* [5- الحصول على المحاصيل النقطية ](5_CropRaster.ipynb)\n",
    "* [6- الحصول على إنتاجية مخصصة للمياه](6_CustomWaterProductivity.ipynb)\n",
    "\n",
    "\n",
    "من أجل إنشاء طلبات HTTP في Python ، ستحتاج إلى تثبيت حزمة الطلبات. لترجمة الاستجابة من تنسيق JSON إلى كائن pandas DataFrame ، ستحتاج إلى استخدام حزم pandas و json.\n",
    "\n",
    "* requests\n",
    "* pandas\n",
    "* json\n",
    "\n",
    "</div>"
   ]
  },
  {
   "cell_type": "markdown",
   "metadata": {},
   "source": [
    "# احصل على رمز API\n",
    "\n",
    "<div dir='rtl'>\n",
    "في بعض الدفاتر، يُطلب منك تقديم مفتاح WaPOR الشخصي الخاص بواجهة برمجة التطبيقات. يمكنك إنشاء واحد من بوابة WaPOR - صفحة الملف الشخصي:\n",
    "</div>\n",
    "\n",
    "![fig1](../img/fig1_get_api_key.gif)"
   ]
  }
 ],
 "metadata": {
  "kernelspec": {
   "display_name": "Python 3",
   "language": "python",
   "name": "python3"
  },
  "language_info": {
   "codemirror_mode": {
    "name": "ipython",
    "version": 3
   },
   "file_extension": ".py",
   "mimetype": "text/x-python",
   "name": "python",
   "nbconvert_exporter": "python",
   "pygments_lexer": "ipython3",
   "version": "3.8.3"
  }
 },
 "nbformat": 4,
 "nbformat_minor": 2
}
