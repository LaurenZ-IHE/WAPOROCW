{
 "cells": [
  {
   "cell_type": "markdown",
   "metadata": {},
   "source": [
    "# Bulk-download WaPOR data \n",
    "\n",
    "In this notebook, we will use local Python module to automate the steps to read dataset metadata, request download url, download raster dataset, pre-process raster dataset using information from metadata (such as conversion factor, unit). *The datasets downloaded by this script will be automatically corrected by conversion factor*.\n",
    "\n",
    "Run the code cell below to import packages and modules needed. You will be asked to provide WaPOR API token (see [Start here](0_Start_here.ipynb) page for how to get API token). The *WaPOR* module will remember your token and save it to the module folder. If you want to use a new API token, you have to delete this file **'modules\\WaPOR\\wapor_api_token.pickle'**"
   ]
  },
  {
   "cell_type": "code",
   "execution_count": 1,
   "metadata": {},
   "outputs": [
    {
     "name": "stdout",
     "output_type": "stream",
     "text": [
      "Loading WaPOR catalog...\n",
      "Loading WaPOR catalog...Done\n"
     ]
    },
    {
     "data": {
      "text/html": [
       "<div>\n",
       "<style scoped>\n",
       "    .dataframe tbody tr th:only-of-type {\n",
       "        vertical-align: middle;\n",
       "    }\n",
       "\n",
       "    .dataframe tbody tr th {\n",
       "        vertical-align: top;\n",
       "    }\n",
       "\n",
       "    .dataframe thead th {\n",
       "        text-align: right;\n",
       "    }\n",
       "</style>\n",
       "<table border=\"1\" class=\"dataframe\">\n",
       "  <thead>\n",
       "    <tr style=\"text-align: right;\">\n",
       "      <th></th>\n",
       "      <th>code</th>\n",
       "      <th>caption</th>\n",
       "      <th>description</th>\n",
       "      <th>additionalInfo</th>\n",
       "      <th>tags</th>\n",
       "      <th>workspaceCode</th>\n",
       "      <th>dataType</th>\n",
       "      <th>index</th>\n",
       "      <th>operation</th>\n",
       "      <th>hidden</th>\n",
       "      <th>links</th>\n",
       "      <th>measure</th>\n",
       "      <th>dimension</th>\n",
       "    </tr>\n",
       "  </thead>\n",
       "  <tbody>\n",
       "    <tr>\n",
       "      <th>0</th>\n",
       "      <td>L1_GBWP_A</td>\n",
       "      <td>Gross Biomass Water Productivity</td>\n",
       "      <td>The annual Gross Biomass Water Productivity ex...</td>\n",
       "      <td>{'format': 'Raster Dataset', 'unit': 'kg/m³ is...</td>\n",
       "      <td>[{'name': 'L1', 'index': 1, 'context': 'LEVELS...</td>\n",
       "      <td>WAPOR_2</td>\n",
       "      <td>RASTER</td>\n",
       "      <td>101</td>\n",
       "      <td>{'pixelTimeSeries': True, 'areaStatsTimeSeries...</td>\n",
       "      <td>False</td>\n",
       "      <td>[{'rel': 'self', 'href': 'https://io.apps.fao....</td>\n",
       "      <td>{'code': 'WPR', 'caption': 'Water Productivity...</td>\n",
       "      <td>[{'code': 'YEAR', 'caption': 'Year', 'descript...</td>\n",
       "    </tr>\n",
       "    <tr>\n",
       "      <th>1</th>\n",
       "      <td>L1_NBWP_A</td>\n",
       "      <td>Net Biomass Water Productivity</td>\n",
       "      <td>The annual Net Biomass Water Productivity expr...</td>\n",
       "      <td>{'format': 'Raster Dataset', 'unit': 'kg/m³ is...</td>\n",
       "      <td>[{'name': 'L1', 'index': 2, 'context': 'LEVELS...</td>\n",
       "      <td>WAPOR_2</td>\n",
       "      <td>RASTER</td>\n",
       "      <td>102</td>\n",
       "      <td>{'pixelTimeSeries': True, 'areaStatsTimeSeries...</td>\n",
       "      <td>False</td>\n",
       "      <td>[{'rel': 'self', 'href': 'https://io.apps.fao....</td>\n",
       "      <td>{'code': 'WPR', 'caption': 'Water Productivity...</td>\n",
       "      <td>[{'code': 'YEAR', 'caption': 'Year', 'descript...</td>\n",
       "    </tr>\n",
       "    <tr>\n",
       "      <th>2</th>\n",
       "      <td>L1_AETI_A</td>\n",
       "      <td>Actual EvapoTranspiration and Interception (An...</td>\n",
       "      <td>The actual EvapoTranspiration and Interception...</td>\n",
       "      <td>{'format': 'Raster Dataset', 'unit': 'mm', 'da...</td>\n",
       "      <td>[{'name': 'L1', 'index': 3, 'context': 'LEVELS...</td>\n",
       "      <td>WAPOR_2</td>\n",
       "      <td>RASTER</td>\n",
       "      <td>103</td>\n",
       "      <td>{'pixelTimeSeries': True, 'areaStatsTimeSeries...</td>\n",
       "      <td>False</td>\n",
       "      <td>[{'rel': 'self', 'href': 'https://io.apps.fao....</td>\n",
       "      <td>{'code': 'WATER_MM', 'caption': 'Amount of Wat...</td>\n",
       "      <td>[{'code': 'YEAR', 'caption': 'Year', 'descript...</td>\n",
       "    </tr>\n",
       "    <tr>\n",
       "      <th>3</th>\n",
       "      <td>L1_AETI_M</td>\n",
       "      <td>Actual EvapoTranspiration and Interception (Mo...</td>\n",
       "      <td>The actual EvapoTranspiration and Interception...</td>\n",
       "      <td>{'format': 'Raster Dataset', 'unit': 'mm', 'da...</td>\n",
       "      <td>[{'name': 'L1', 'index': 4, 'context': 'LEVELS...</td>\n",
       "      <td>WAPOR_2</td>\n",
       "      <td>RASTER</td>\n",
       "      <td>104</td>\n",
       "      <td>{'pixelTimeSeries': True, 'areaStatsTimeSeries...</td>\n",
       "      <td>False</td>\n",
       "      <td>[{'rel': 'self', 'href': 'https://io.apps.fao....</td>\n",
       "      <td>{'code': 'WATER_MM', 'caption': 'Amount of Wat...</td>\n",
       "      <td>[{'code': 'MONTH', 'caption': 'Month', 'worksp...</td>\n",
       "    </tr>\n",
       "    <tr>\n",
       "      <th>4</th>\n",
       "      <td>L1_AETI_D</td>\n",
       "      <td>Actual EvapoTranspiration and Interception (De...</td>\n",
       "      <td>The actual EvapoTranspiration and Interception...</td>\n",
       "      <td>{'format': 'Raster Dataset', 'unit': 'mm', 'da...</td>\n",
       "      <td>[{'name': 'L1', 'index': 5, 'context': 'LEVELS...</td>\n",
       "      <td>WAPOR_2</td>\n",
       "      <td>RASTER</td>\n",
       "      <td>105</td>\n",
       "      <td>{'pixelTimeSeries': True, 'areaStatsTimeSeries...</td>\n",
       "      <td>False</td>\n",
       "      <td>[{'rel': 'self', 'href': 'https://io.apps.fao....</td>\n",
       "      <td>{'code': 'WATER_MM', 'caption': 'Amount of Wat...</td>\n",
       "      <td>[{'code': 'DEKAD', 'caption': 'Dekad (10-Days ...</td>\n",
       "    </tr>\n",
       "    <tr>\n",
       "      <th>...</th>\n",
       "      <td>...</td>\n",
       "      <td>...</td>\n",
       "      <td>...</td>\n",
       "      <td>...</td>\n",
       "      <td>...</td>\n",
       "      <td>...</td>\n",
       "      <td>...</td>\n",
       "      <td>...</td>\n",
       "      <td>...</td>\n",
       "      <td>...</td>\n",
       "      <td>...</td>\n",
       "      <td>...</td>\n",
       "      <td>...</td>\n",
       "    </tr>\n",
       "    <tr>\n",
       "      <th>193</th>\n",
       "      <td>L2_BAS_PHE_S</td>\n",
       "      <td>Phenology (Seasonal, clipped by basin)</td>\n",
       "      <td>This is a system dataset, used to let the down...</td>\n",
       "      <td>NaN</td>\n",
       "      <td>NaN</td>\n",
       "      <td>WAPOR_2</td>\n",
       "      <td>RASTER</td>\n",
       "      <td>4151</td>\n",
       "      <td>{'pixelTimeSeries': False, 'areaStatsTimeSerie...</td>\n",
       "      <td>True</td>\n",
       "      <td>[{'rel': 'self', 'href': 'https://io.apps.fao....</td>\n",
       "      <td>{'code': 'PHE', 'caption': 'Phenology', 'descr...</td>\n",
       "      <td>[{'code': 'YEAR', 'caption': 'Year', 'descript...</td>\n",
       "    </tr>\n",
       "    <tr>\n",
       "      <th>194</th>\n",
       "      <td>L2_BAS_QUAL_NDVI_D</td>\n",
       "      <td>Quality of Normalized Difference Vegetation In...</td>\n",
       "      <td>This is a system dataset, used to let the down...</td>\n",
       "      <td>NaN</td>\n",
       "      <td>NaN</td>\n",
       "      <td>WAPOR_2</td>\n",
       "      <td>RASTER</td>\n",
       "      <td>4161</td>\n",
       "      <td>{'pixelTimeSeries': False, 'areaStatsTimeSerie...</td>\n",
       "      <td>True</td>\n",
       "      <td>[{'rel': 'self', 'href': 'https://io.apps.fao....</td>\n",
       "      <td>{'code': 'N_DAYS', 'caption': 'Number of Days'...</td>\n",
       "      <td>[{'code': 'DEKAD', 'caption': 'Dekad (10-Days ...</td>\n",
       "    </tr>\n",
       "    <tr>\n",
       "      <th>195</th>\n",
       "      <td>L2_CTY_QUAL_NDVI_D</td>\n",
       "      <td>Quality of Normalized Difference Vegetation In...</td>\n",
       "      <td>This is a system dataset, used to let the down...</td>\n",
       "      <td>NaN</td>\n",
       "      <td>NaN</td>\n",
       "      <td>WAPOR_2</td>\n",
       "      <td>RASTER</td>\n",
       "      <td>4162</td>\n",
       "      <td>{'pixelTimeSeries': False, 'areaStatsTimeSerie...</td>\n",
       "      <td>True</td>\n",
       "      <td>[{'rel': 'self', 'href': 'https://io.apps.fao....</td>\n",
       "      <td>{'code': 'N_DAYS', 'caption': 'Number of Days'...</td>\n",
       "      <td>[{'code': 'DEKAD', 'caption': 'Dekad (10-Days ...</td>\n",
       "    </tr>\n",
       "    <tr>\n",
       "      <th>196</th>\n",
       "      <td>L2_BAS_QUAL_LST_D</td>\n",
       "      <td>Quality Land Surface Temperature (Dekadal, cli...</td>\n",
       "      <td>This is a system dataset, used to let the down...</td>\n",
       "      <td>NaN</td>\n",
       "      <td>NaN</td>\n",
       "      <td>WAPOR_2</td>\n",
       "      <td>RASTER</td>\n",
       "      <td>4171</td>\n",
       "      <td>{'pixelTimeSeries': False, 'areaStatsTimeSerie...</td>\n",
       "      <td>True</td>\n",
       "      <td>[{'rel': 'self', 'href': 'https://io.apps.fao....</td>\n",
       "      <td>{'code': 'N_DAYS', 'caption': 'Number of Days'...</td>\n",
       "      <td>[{'code': 'DEKAD', 'caption': 'Dekad (10-Days ...</td>\n",
       "    </tr>\n",
       "    <tr>\n",
       "      <th>197</th>\n",
       "      <td>L2_CTY_QUAL_LST_D</td>\n",
       "      <td>Quality Land Surface Temperature (Dekadal, cli...</td>\n",
       "      <td>This is a system dataset, used to let the down...</td>\n",
       "      <td>NaN</td>\n",
       "      <td>NaN</td>\n",
       "      <td>WAPOR_2</td>\n",
       "      <td>RASTER</td>\n",
       "      <td>4172</td>\n",
       "      <td>{'pixelTimeSeries': False, 'areaStatsTimeSerie...</td>\n",
       "      <td>True</td>\n",
       "      <td>[{'rel': 'self', 'href': 'https://io.apps.fao....</td>\n",
       "      <td>{'code': 'N_DAYS', 'caption': 'Number of Days'...</td>\n",
       "      <td>[{'code': 'DEKAD', 'caption': 'Dekad (10-Days ...</td>\n",
       "    </tr>\n",
       "  </tbody>\n",
       "</table>\n",
       "<p>198 rows × 13 columns</p>\n",
       "</div>"
      ],
      "text/plain": [
       "                   code                                            caption  \\\n",
       "0             L1_GBWP_A                   Gross Biomass Water Productivity   \n",
       "1             L1_NBWP_A                     Net Biomass Water Productivity   \n",
       "2             L1_AETI_A  Actual EvapoTranspiration and Interception (An...   \n",
       "3             L1_AETI_M  Actual EvapoTranspiration and Interception (Mo...   \n",
       "4             L1_AETI_D  Actual EvapoTranspiration and Interception (De...   \n",
       "..                  ...                                                ...   \n",
       "193        L2_BAS_PHE_S             Phenology (Seasonal, clipped by basin)   \n",
       "194  L2_BAS_QUAL_NDVI_D  Quality of Normalized Difference Vegetation In...   \n",
       "195  L2_CTY_QUAL_NDVI_D  Quality of Normalized Difference Vegetation In...   \n",
       "196   L2_BAS_QUAL_LST_D  Quality Land Surface Temperature (Dekadal, cli...   \n",
       "197   L2_CTY_QUAL_LST_D  Quality Land Surface Temperature (Dekadal, cli...   \n",
       "\n",
       "                                           description  \\\n",
       "0    The annual Gross Biomass Water Productivity ex...   \n",
       "1    The annual Net Biomass Water Productivity expr...   \n",
       "2    The actual EvapoTranspiration and Interception...   \n",
       "3    The actual EvapoTranspiration and Interception...   \n",
       "4    The actual EvapoTranspiration and Interception...   \n",
       "..                                                 ...   \n",
       "193  This is a system dataset, used to let the down...   \n",
       "194  This is a system dataset, used to let the down...   \n",
       "195  This is a system dataset, used to let the down...   \n",
       "196  This is a system dataset, used to let the down...   \n",
       "197  This is a system dataset, used to let the down...   \n",
       "\n",
       "                                        additionalInfo  \\\n",
       "0    {'format': 'Raster Dataset', 'unit': 'kg/m³ is...   \n",
       "1    {'format': 'Raster Dataset', 'unit': 'kg/m³ is...   \n",
       "2    {'format': 'Raster Dataset', 'unit': 'mm', 'da...   \n",
       "3    {'format': 'Raster Dataset', 'unit': 'mm', 'da...   \n",
       "4    {'format': 'Raster Dataset', 'unit': 'mm', 'da...   \n",
       "..                                                 ...   \n",
       "193                                                NaN   \n",
       "194                                                NaN   \n",
       "195                                                NaN   \n",
       "196                                                NaN   \n",
       "197                                                NaN   \n",
       "\n",
       "                                                  tags workspaceCode dataType  \\\n",
       "0    [{'name': 'L1', 'index': 1, 'context': 'LEVELS...       WAPOR_2   RASTER   \n",
       "1    [{'name': 'L1', 'index': 2, 'context': 'LEVELS...       WAPOR_2   RASTER   \n",
       "2    [{'name': 'L1', 'index': 3, 'context': 'LEVELS...       WAPOR_2   RASTER   \n",
       "3    [{'name': 'L1', 'index': 4, 'context': 'LEVELS...       WAPOR_2   RASTER   \n",
       "4    [{'name': 'L1', 'index': 5, 'context': 'LEVELS...       WAPOR_2   RASTER   \n",
       "..                                                 ...           ...      ...   \n",
       "193                                                NaN       WAPOR_2   RASTER   \n",
       "194                                                NaN       WAPOR_2   RASTER   \n",
       "195                                                NaN       WAPOR_2   RASTER   \n",
       "196                                                NaN       WAPOR_2   RASTER   \n",
       "197                                                NaN       WAPOR_2   RASTER   \n",
       "\n",
       "     index                                          operation  hidden  \\\n",
       "0      101  {'pixelTimeSeries': True, 'areaStatsTimeSeries...   False   \n",
       "1      102  {'pixelTimeSeries': True, 'areaStatsTimeSeries...   False   \n",
       "2      103  {'pixelTimeSeries': True, 'areaStatsTimeSeries...   False   \n",
       "3      104  {'pixelTimeSeries': True, 'areaStatsTimeSeries...   False   \n",
       "4      105  {'pixelTimeSeries': True, 'areaStatsTimeSeries...   False   \n",
       "..     ...                                                ...     ...   \n",
       "193   4151  {'pixelTimeSeries': False, 'areaStatsTimeSerie...    True   \n",
       "194   4161  {'pixelTimeSeries': False, 'areaStatsTimeSerie...    True   \n",
       "195   4162  {'pixelTimeSeries': False, 'areaStatsTimeSerie...    True   \n",
       "196   4171  {'pixelTimeSeries': False, 'areaStatsTimeSerie...    True   \n",
       "197   4172  {'pixelTimeSeries': False, 'areaStatsTimeSerie...    True   \n",
       "\n",
       "                                                 links  \\\n",
       "0    [{'rel': 'self', 'href': 'https://io.apps.fao....   \n",
       "1    [{'rel': 'self', 'href': 'https://io.apps.fao....   \n",
       "2    [{'rel': 'self', 'href': 'https://io.apps.fao....   \n",
       "3    [{'rel': 'self', 'href': 'https://io.apps.fao....   \n",
       "4    [{'rel': 'self', 'href': 'https://io.apps.fao....   \n",
       "..                                                 ...   \n",
       "193  [{'rel': 'self', 'href': 'https://io.apps.fao....   \n",
       "194  [{'rel': 'self', 'href': 'https://io.apps.fao....   \n",
       "195  [{'rel': 'self', 'href': 'https://io.apps.fao....   \n",
       "196  [{'rel': 'self', 'href': 'https://io.apps.fao....   \n",
       "197  [{'rel': 'self', 'href': 'https://io.apps.fao....   \n",
       "\n",
       "                                               measure  \\\n",
       "0    {'code': 'WPR', 'caption': 'Water Productivity...   \n",
       "1    {'code': 'WPR', 'caption': 'Water Productivity...   \n",
       "2    {'code': 'WATER_MM', 'caption': 'Amount of Wat...   \n",
       "3    {'code': 'WATER_MM', 'caption': 'Amount of Wat...   \n",
       "4    {'code': 'WATER_MM', 'caption': 'Amount of Wat...   \n",
       "..                                                 ...   \n",
       "193  {'code': 'PHE', 'caption': 'Phenology', 'descr...   \n",
       "194  {'code': 'N_DAYS', 'caption': 'Number of Days'...   \n",
       "195  {'code': 'N_DAYS', 'caption': 'Number of Days'...   \n",
       "196  {'code': 'N_DAYS', 'caption': 'Number of Days'...   \n",
       "197  {'code': 'N_DAYS', 'caption': 'Number of Days'...   \n",
       "\n",
       "                                             dimension  \n",
       "0    [{'code': 'YEAR', 'caption': 'Year', 'descript...  \n",
       "1    [{'code': 'YEAR', 'caption': 'Year', 'descript...  \n",
       "2    [{'code': 'YEAR', 'caption': 'Year', 'descript...  \n",
       "3    [{'code': 'MONTH', 'caption': 'Month', 'worksp...  \n",
       "4    [{'code': 'DEKAD', 'caption': 'Dekad (10-Days ...  \n",
       "..                                                 ...  \n",
       "193  [{'code': 'YEAR', 'caption': 'Year', 'descript...  \n",
       "194  [{'code': 'DEKAD', 'caption': 'Dekad (10-Days ...  \n",
       "195  [{'code': 'DEKAD', 'caption': 'Dekad (10-Days ...  \n",
       "196  [{'code': 'DEKAD', 'caption': 'Dekad (10-Days ...  \n",
       "197  [{'code': 'DEKAD', 'caption': 'Dekad (10-Days ...  \n",
       "\n",
       "[198 rows x 13 columns]"
      ]
     },
     "execution_count": 1,
     "metadata": {},
     "output_type": "execute_result"
    }
   ],
   "source": [
    "import os\n",
    "import glob\n",
    "import sys\n",
    "import shapefile             \n",
    "import matplotlib.pyplot as plt \n",
    "\n",
    "folder=r\"..\\..\\modules\"\n",
    "sys.path.append(folder) #add folder with local modules to system paths\n",
    "import WaPOR #import local module 'WaPOR'\n",
    "WaPOR.API.getCatalog()"
   ]
  },
  {
   "cell_type": "markdown",
   "metadata": {},
   "source": [
    "## Dataset code\n",
    "\n",
    "The **WaPOR** module contains the functions *download_dekadal*, *download_monthly*, and *download_yearly* that bulk-download WaPOR data for dekadal, monthly, and yearly temporal resolution. To sepecify the data layer to be downloaded, these functions require dataset code, bounding box coordiate, level of data, and starting and ending date of the period. The dataset code for each dataset is available in the table below:\n",
    "\n",
    "| code        | Name          | \n",
    "| :---------: |:-------------:| \n",
    "| LCC | Land Cover Classification      | \n",
    "| PCP      | Precipitation      | \n",
    "| RET      | Reference Evapotranspiration      | \n",
    "| NPP      | Net Primary Production |\n",
    "| AETI      | Actual Evapotranspiration and Interception |   \n",
    "| E | Evaporation      |  \n",
    "| I | Interception      | \n",
    "| T | Transpiration      | \n",
    "| PHE | Phenology      | \n",
    "| GBWP | Gross Biomass Water Productivity      | \n",
    "\n",
    "Use the selected data code instead of **RET** for the **data** parameter value in the code cells below."
   ]
  },
  {
   "cell_type": "markdown",
   "metadata": {},
   "source": [
    "## Example of WaPOR module functions\n",
    "\n",
    "The example code cells below show how the *WaPOR* module was used to bulk-download WaPOR data: dekadal, monthly, and yearly Reference Evapotranspiration of an extent. The extent is defined by the bounding box of the shapefile of Awash basin. The raster data will be collected and pre-processed to the correct unit mm/period (mm/dekad, mm/month, or mm/year respectively), and save in the [output folder](data)\n"
   ]
  },
  {
   "cell_type": "markdown",
   "metadata": {},
   "source": [
    "### Set download extent and output folder\n",
    "\n",
    "Change xmin, ymin, xmax, ymax values to the download extent.\n",
    "If needed, change *output_dir* path to the folder where you want to save data."
   ]
  },
  {
   "cell_type": "code",
   "execution_count": 2,
   "metadata": {},
   "outputs": [],
   "source": [
    "#define extent to download from a shapefile:\n",
    "shape_fh=r\".\\data\\Awash_shapefile.shp\"\n",
    "shape=shapefile.Reader(shape_fh)\n",
    "xmin,ymin,xmax,ymax=shape.bbox\n",
    "\n",
    "#define extent to download by coordinates:\n",
    "# xmin,ymin,xmax,ymax=(32.65692516077674,-25.16412729789142,32.90420244933813,-25.01450956754679)\n",
    "\n",
    "output_dir=r'.\\data' # folder to save data"
   ]
  },
  {
   "cell_type": "markdown",
   "metadata": {},
   "source": [
    "### Download daily data\n",
    "\n",
    "Note that daily data is only available for Level 1 Reference Evapotranspiration and Precipitation"
   ]
  },
  {
   "cell_type": "code",
   "execution_count": 3,
   "metadata": {},
   "outputs": [
    {
     "name": "stdout",
     "output_type": "stream",
     "text": [
      "\n",
      "Download WaPOR Level 1 dekadal RET data for the period 2009-01-01 till 2009-01-31\n",
      "Progress: |██████████████████████████████████████████████████| 100.0% Complete\n"
     ]
    },
    {
     "data": {
      "text/plain": [
       "'.\\\\data\\\\WAPOR.v2_daily_L1_RET_E'"
      ]
     },
     "execution_count": 3,
     "metadata": {},
     "output_type": "execute_result"
    }
   ],
   "source": [
    "WaPOR.download_daily(output_dir, \n",
    "                       data='RET',\n",
    "                       Startdate='2009-01-01', \n",
    "                       Enddate='2009-01-31',\n",
    "                       latlim=[ymin-0.5, ymax+0.5], \n",
    "                       lonlim=[xmin-0.5, xmax+0.5],\n",
    "                       level=1,                    \n",
    "                       )"
   ]
  },
  {
   "cell_type": "markdown",
   "metadata": {},
   "source": [
    "### Download dekadal data\n",
    "\n",
    "**Note:** The unit of dekadal dataset will be converted to quantity/dekad instead of average daily quantity/day"
   ]
  },
  {
   "cell_type": "code",
   "execution_count": 4,
   "metadata": {},
   "outputs": [
    {
     "name": "stdout",
     "output_type": "stream",
     "text": [
      "\n",
      "Download WaPOR Level 1 dekadal RET data for the period 2009-01-01 till 2009-12-31\n",
      "Progress: |██████████████████████████████████████████████████| 100.0% Complete\n"
     ]
    },
    {
     "data": {
      "text/plain": [
       "'.\\\\data\\\\WAPOR.v2_dekadal_L1_RET_D'"
      ]
     },
     "execution_count": 4,
     "metadata": {},
     "output_type": "execute_result"
    }
   ],
   "source": [
    "WaPOR.download_dekadal(output_dir, \n",
    "                       data='RET',\n",
    "                       Startdate='2009-01-01', \n",
    "                       Enddate='2009-12-31',\n",
    "                       latlim=[ymin-0.5, ymax+0.5], \n",
    "                       lonlim=[xmin-0.5, xmax+0.5],\n",
    "                       level=1, \n",
    "                       )"
   ]
  },
  {
   "cell_type": "markdown",
   "metadata": {},
   "source": [
    "### Download monthly data"
   ]
  },
  {
   "cell_type": "code",
   "execution_count": 5,
   "metadata": {},
   "outputs": [
    {
     "name": "stdout",
     "output_type": "stream",
     "text": [
      "\n",
      "Download WaPOR Level 1 monthly RET data for the period 2009-01-01 till 2009-12-31\n",
      "Progress: |██████████████████████████████████████████████████| 100.0% Complete\n"
     ]
    },
    {
     "data": {
      "text/plain": [
       "'.\\\\data\\\\WAPOR.v2_monthly_L1_RET_M'"
      ]
     },
     "execution_count": 5,
     "metadata": {},
     "output_type": "execute_result"
    }
   ],
   "source": [
    "WaPOR.download_monthly(output_dir, \n",
    "                       data='RET',\n",
    "                       Startdate='2009-01-01', \n",
    "                       Enddate='2009-12-31', \n",
    "                       latlim=[ymin-0.5, ymax+0.5], \n",
    "                       lonlim=[xmin-0.5, xmax+0.5],\n",
    "                       level=1, \n",
    "                       )"
   ]
  },
  {
   "cell_type": "markdown",
   "metadata": {},
   "source": [
    "### Download yearly data"
   ]
  },
  {
   "cell_type": "code",
   "execution_count": 6,
   "metadata": {},
   "outputs": [
    {
     "name": "stdout",
     "output_type": "stream",
     "text": [
      "\n",
      "Download WaPOR Level 1 yearly RET data for the period 2009-01-01 till 2009-12-31\n",
      "Progress: |██████████████████████████████████████████████████| 100.0% Complete\n"
     ]
    },
    {
     "data": {
      "text/plain": [
       "'.\\\\data\\\\WAPOR.v2_yearly_L1_RET_A'"
      ]
     },
     "execution_count": 6,
     "metadata": {},
     "output_type": "execute_result"
    }
   ],
   "source": [
    "WaPOR.download_yearly(output_dir, \n",
    "                       data='RET',\n",
    "                       Startdate='2009-01-01', \n",
    "                       Enddate='2009-12-31',\n",
    "                       latlim=[ymin-0.5, ymax+0.5], \n",
    "                       lonlim=[xmin-0.5, xmax+0.5],\n",
    "                       level=1, \n",
    "                       )"
   ]
  },
  {
   "cell_type": "markdown",
   "metadata": {},
   "source": [
    "### Download seasonal data\n",
    "\n",
    "**Note**: Seasonal data is only available for some layers (e.g. Gross Biomass Water Productivity, Phenology)"
   ]
  },
  {
   "cell_type": "code",
   "execution_count": 7,
   "metadata": {},
   "outputs": [
    {
     "name": "stdout",
     "output_type": "stream",
     "text": [
      "\n",
      "Download WaPOR Level 2 seasonal GBWP data for the period 2009-01-01 till 2009-12-31\n",
      "ERROR: Cannot get list of available data\n",
      "ERROR: cannot get list of available data\n",
      "\n",
      "Download WaPOR Level 2 seasonal PHE data for the period 2009-01-01 till 2009-12-31\n",
      "Progress: |██████████████████████████████████████████████████| 100.0% Complete\n"
     ]
    },
    {
     "data": {
      "text/plain": [
       "'.\\\\data\\\\WAPOR.v2_seasonal_L2_PHE_S'"
      ]
     },
     "execution_count": 7,
     "metadata": {},
     "output_type": "execute_result"
    }
   ],
   "source": [
    "WaPOR.download_seasonal(output_dir,\n",
    "                       data='GBWP',\n",
    "                       Startdate='2009-01-01',\n",
    "                       Enddate='2009-12-31',\n",
    "                       latlim=[ymin-0.5, ymax+0.5],\n",
    "                       lonlim=[xmin-0.5, xmax+0.5],\n",
    "                       level=2,\n",
    "                       )\n",
    "WaPOR.download_seasonal(output_dir,\n",
    "                       data='PHE',\n",
    "                       Startdate='2009-01-01',\n",
    "                       Enddate='2009-12-31',\n",
    "                       latlim=[ymin-0.5, ymax+0.5],\n",
    "                       lonlim=[xmin-0.5, xmax+0.5],\n",
    "                       level=2,\n",
    "                       )"
   ]
  },
  {
   "cell_type": "markdown",
   "metadata": {},
   "source": [
    "# Exercise\n",
    "\n",
    "Download Level 1 monthly Precipitation, Actual Evapotranspiration and Interception, and yearly Land cover classification from 2009 to 2010 for the area bounded by the shapefile \".\\data\\Awash_shapefile.shp\"\n",
    "\n",
    "Use the **WaPOR** module functions following the given examples."
   ]
  },
  {
   "cell_type": "code",
   "execution_count": 8,
   "metadata": {},
   "outputs": [
    {
     "data": {
      "text/plain": [
       "'\\nWrite your code here\\n'"
      ]
     },
     "execution_count": 8,
     "metadata": {},
     "output_type": "execute_result"
    }
   ],
   "source": [
    "'''\n",
    "Write your code here\n",
    "'''"
   ]
  },
  {
   "cell_type": "code",
   "execution_count": 3,
   "metadata": {},
   "outputs": [
    {
     "name": "stdout",
     "output_type": "stream",
     "text": [
      "\n",
      "Download WaPOR Level 1 monthly PCP data for the period 2010-01-01 till 2010-12-31\n",
      "Progress: |██████████████████████████████████████████████████| 100.0% Complete\n",
      "\n",
      "Download WaPOR Level 1 monthly AETI data for the period 2010-01-01 till 2010-12-31\n",
      "Progress: |██████████████████████████████████████████████████| 100.0% Complete\n",
      "\n",
      "Download WaPOR Level 1 yearly LCC data for the period 2010-01-01 till 2010-12-31\n",
      "Progress: |██████████████████████████████████████████████████| 100.0% Complete\n"
     ]
    },
    {
     "data": {
      "text/plain": [
       "'.\\\\data\\\\WAPOR.v2_yearly_L1_LCC_A'"
      ]
     },
     "execution_count": 3,
     "metadata": {},
     "output_type": "execute_result"
    }
   ],
   "source": [
    "WaPOR.download_monthly(output_dir, \n",
    "                       data='PCP',\n",
    "                       Startdate='2009-01-01', \n",
    "                       Enddate='2010-12-31', \n",
    "                       latlim=[ymin-0.5, ymax+0.5], \n",
    "                       lonlim=[xmin-0.5, xmax+0.5],\n",
    "                       level=1, \n",
    "                       )\n",
    "\n",
    "WaPOR.download_monthly(output_dir, \n",
    "                       data='AETI',\n",
    "                       Startdate='2009-01-01', \n",
    "                       Enddate='2010-12-31', \n",
    "                       latlim=[ymin-0.5, ymax+0.5], \n",
    "                       lonlim=[xmin-0.5, xmax+0.5],\n",
    "                       level=1, \n",
    "                       )\n",
    "\n",
    "WaPOR.download_yearly(output_dir, \n",
    "                       data='LCC',\n",
    "                       Startdate='2009-01-01', \n",
    "                       Enddate='2010-12-31',\n",
    "                       latlim=[ymin-0.5, ymax+0.5], \n",
    "                       lonlim=[xmin-0.5, xmax+0.5],\n",
    "                       level=1, \n",
    "                       )"
   ]
  }
 ],
 "metadata": {
  "kernelspec": {
   "display_name": "Python 3",
   "language": "python",
   "name": "python3"
  },
  "language_info": {
   "codemirror_mode": {
    "name": "ipython",
    "version": 3
   },
   "file_extension": ".py",
   "mimetype": "text/x-python",
   "name": "python",
   "nbconvert_exporter": "python",
   "pygments_lexer": "ipython3",
   "version": "3.7.9"
  }
 },
 "nbformat": 4,
 "nbformat_minor": 2
}
