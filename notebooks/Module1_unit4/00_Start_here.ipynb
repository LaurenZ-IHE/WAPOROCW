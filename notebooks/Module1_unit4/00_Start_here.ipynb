{
 "cells": [
  {
   "cell_type": "markdown",
   "metadata": {},
   "source": [
    "# Readme\n",
    "\n",
    "The following notebooks are examples of how to use Python to download, preprocess, and analyse WaPOR data:\n",
    "\n",
    "* [01 Download WaPOR data using hkvwaporpy package](01_Download_WaPOR_using_hkvwaporpy.ipynb)\n",
    "* [02 Preprocess downloaded WaPOR data](02_Preprocess_WaPOR_data.ipynb)\n",
    "* [03 Analyse WaPOR data](03_Analyse_WaPOR_data.ipynb)\n",
    "* [04 Bulk download WaPOR data](04_Bulk_download_WaPOR_data.ipynb)\n",
    "\n",
    "You will need to install the following packages to run the notebooks:\n",
    "\n",
    "* hkvwaporpy\n",
    "* gdal\n",
    "* numpy\n",
    "* pandas"
   ]
  },
  {
   "cell_type": "markdown",
   "metadata": {},
   "source": [
    "# Get API Token\n",
    "\n",
    "In some notebooks, you are required to provide your WaPOR personal API key. You can generate one from WaPOR portal - profile page:\n",
    "\n",
    "\n",
    "![fig1](../img/fig1_get_api_key.gif)"
   ]
  }
 ],
 "metadata": {
  "kernelspec": {
   "display_name": "Python 3",
   "language": "python",
   "name": "python3"
  },
  "language_info": {
   "codemirror_mode": {
    "name": "ipython",
    "version": 3
   },
   "file_extension": ".py",
   "mimetype": "text/x-python",
   "name": "python",
   "nbconvert_exporter": "python",
   "pygments_lexer": "ipython3",
   "version": "3.7.3"
  }
 },
 "nbformat": 4,
 "nbformat_minor": 2
}
