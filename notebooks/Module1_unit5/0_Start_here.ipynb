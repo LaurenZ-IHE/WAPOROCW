{
 "cells": [
  {
   "cell_type": "markdown",
   "metadata": {},
   "source": [
    "# Readme\n",
    "\n",
    "The following notebooks are examples of how to use Python to connect with WaPOR API:\n",
    "\n",
    "* [1 Read catalog and metadata](1_Read_catalog_metadata.ipynb)\n",
    "* [2 Get available data table](2_AvailableData_Table.ipynb)\n",
    "* [3_Get point timeseries](3_PixelTimeSeries.ipynb)\n",
    "* [4_Get area statistics timeseries](4_AreaStatsTimeSeries.ipynb)\n",
    "* [5_Get crop raster](5_CropRaster.ipynb)\n",
    "* [6_Get custom water productivity](6_CustomWaterProductivity.ipynb)\n",
    "\n",
    "\n",
    "In order to create HTTP requests in Python, you will need to install *requests* package. To translate response from JSON format to *pandas* DataFrame object, you will need to use *pandas* and *json* packages.\n",
    "\n",
    "* requests\n",
    "* pandas\n",
    "* json"
   ]
  },
  {
   "cell_type": "markdown",
   "metadata": {},
   "source": [
    "# Get API Token\n",
    "\n",
    "In some notebooks, you are required to provide your WaPOR personal API key. You can generate one from WaPOR portal - profile page:\n",
    "\n",
    "\n",
    "![fig1](../img/fig1_get_api_key.gif)"
   ]
  }
 ],
 "metadata": {
  "kernelspec": {
   "display_name": "Python 3",
   "language": "python",
   "name": "python3"
  },
  "language_info": {
   "codemirror_mode": {
    "name": "ipython",
    "version": 3
   },
   "file_extension": ".py",
   "mimetype": "text/x-python",
   "name": "python",
   "nbconvert_exporter": "python",
   "pygments_lexer": "ipython3",
   "version": "3.7.9"
  }
 },
 "nbformat": 4,
 "nbformat_minor": 2
}
